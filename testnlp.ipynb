{
  "nbformat": 4,
  "nbformat_minor": 0,
  "metadata": {
    "colab": {
      "name": "testnlp.ipynb",
      "provenance": [],
      "collapsed_sections": [],
      "toc_visible": true,
      "mount_file_id": "1WjtHg6WlpQYmpPK1igOrCZDehfXLL3QI",
      "authorship_tag": "ABX9TyNpuP1WvVB4y3jlEVczSlol",
      "include_colab_link": true
    },
    "kernelspec": {
      "name": "python3",
      "display_name": "Python 3"
    },
    "accelerator": "GPU"
  },
  "cells": [
    {
      "cell_type": "markdown",
      "metadata": {
        "id": "view-in-github",
        "colab_type": "text"
      },
      "source": [
        "<a href=\"https://colab.research.google.com/github/wudih146/PythonML/blob/master/testnlp.ipynb\" target=\"_parent\"><img src=\"https://colab.research.google.com/assets/colab-badge.svg\" alt=\"Open In Colab\"/></a>"
      ]
    },
    {
      "cell_type": "code",
      "metadata": {
        "id": "7sYT-_w_bta8",
        "colab": {
          "base_uri": "https://localhost:8080/"
        },
        "outputId": "8d136e28-2f1b-434c-a78e-3b7201ca8cc0"
      },
      "source": [
        "## 切换到当前路径下\r\n",
        "import os\r\n",
        "path = '/content/drive/MyDrive/Colab Notebooks/NLPTest'\r\n",
        "os.chdir(path)\r\n",
        "os.listdir(path)"
      ],
      "execution_count": null,
      "outputs": [
        {
          "output_type": "execute_result",
          "data": {
            "text/plain": [
              "['CoreNatureDictionary.mini.txt',\n",
              " 'my_cws_corpus.txt',\n",
              " 'stopwords.txt',\n",
              " 'testnlp.ipynb']"
            ]
          },
          "metadata": {
            "tags": []
          },
          "execution_count": 17
        }
      ]
    },
    {
      "cell_type": "code",
      "metadata": {
        "id": "R7cIV2rxqMfW",
        "colab": {
          "base_uri": "https://localhost:8080/"
        },
        "outputId": "163e7cbb-a094-405d-fb2f-104927196a4f"
      },
      "source": [
        "\r\n",
        "import os \r\n",
        "os.getcwd()\r\n",
        "def load_dictionary():\r\n",
        "    dic = set()\r\n",
        "\r\n",
        "    # 按行读取字典文件，每行第一个空格之前的字符串提取出来。\r\n",
        "    for line in open(\"CoreNatureDictionary.mini.txt\",\"r\"):\r\n",
        "        dic.add(line[0:line.find('\t')])\r\n",
        "    \r\n",
        "    return dic\r\n",
        "dic=load_dictionary()\r\n",
        "mydic=list(dic)\r\n",
        "mydic[:100]"
      ],
      "execution_count": null,
      "outputs": [
        {
          "output_type": "execute_result",
          "data": {
            "text/plain": [
              "['大包大揽',\n",
              " '大泽',\n",
              " '病虫害',\n",
              " '药衡',\n",
              " '才气',\n",
              " '簋',\n",
              " '管理费',\n",
              " '剧种',\n",
              " '写道',\n",
              " '辅助',\n",
              " '北票市',\n",
              " '所在',\n",
              " '扩充',\n",
              " '内忧',\n",
              " '跳箱',\n",
              " '年菜',\n",
              " '浅说',\n",
              " '番薯',\n",
              " '造册',\n",
              " '酒池肉林',\n",
              " '弘',\n",
              " '勉',\n",
              " '心惊胆颤',\n",
              " '供大于求',\n",
              " '物美价廉',\n",
              " '物极必反',\n",
              " '一鳞半爪',\n",
              " '置信',\n",
              " '赤眼蜂',\n",
              " '追念',\n",
              " '坐商',\n",
              " '长枪',\n",
              " '彭州市',\n",
              " '贵姓',\n",
              " '坚信不疑',\n",
              " '神气活现',\n",
              " '分子生物学',\n",
              " '过关',\n",
              " '提琴',\n",
              " '断裂带',\n",
              " '浮价款',\n",
              " '钡',\n",
              " '暴晒',\n",
              " '严谨',\n",
              " '苦熬',\n",
              " '甬',\n",
              " '糖精',\n",
              " '一得之功',\n",
              " '阿斗',\n",
              " '冗',\n",
              " '莫索罗',\n",
              " '哈龙',\n",
              " '棉籽油',\n",
              " '认识论',\n",
              " '极性',\n",
              " '猪舍',\n",
              " '万通',\n",
              " '内陆河',\n",
              " '有头无尾',\n",
              " '半径',\n",
              " '开放式',\n",
              " '前仆后继',\n",
              " '析取',\n",
              " '油渣',\n",
              " '着色剂',\n",
              " '小花棘豆',\n",
              " '保加利亚',\n",
              " '火油炉',\n",
              " '公理',\n",
              " '护卫',\n",
              " '咪咪',\n",
              " '缺德',\n",
              " '二话',\n",
              " '远征',\n",
              " '铁算盘',\n",
              " '丙亥',\n",
              " '半边天',\n",
              " '收藏版',\n",
              " '汤阴县',\n",
              " '下叔村',\n",
              " '娇美',\n",
              " '敬仰',\n",
              " '圣路易斯市',\n",
              " '旅游者',\n",
              " '外电路',\n",
              " '气息奄奄',\n",
              " '当夜',\n",
              " '筒裙',\n",
              " '异彩',\n",
              " '侏儒',\n",
              " '数值',\n",
              " '多难兴邦',\n",
              " '十一届',\n",
              " '真容',\n",
              " '高中版',\n",
              " '终身制',\n",
              " '爻',\n",
              " '相形见绌',\n",
              " '印度尼西亚',\n",
              " '视点']"
            ]
          },
          "metadata": {
            "tags": []
          },
          "execution_count": 18
        }
      ]
    },
    {
      "cell_type": "markdown",
      "metadata": {
        "id": "CqvBHltvsonQ"
      },
      "source": [
        "完全切分"
      ]
    },
    {
      "cell_type": "code",
      "metadata": {
        "id": "JcTbNxFKsDol",
        "colab": {
          "base_uri": "https://localhost:8080/"
        },
        "outputId": "aaeeaae4-c357-440d-abcc-6562f294a409"
      },
      "source": [
        "def fully_segment(text, dic):\r\n",
        "    word_list = []\r\n",
        "    for i in range(len(text)):                  # i 从 0 到text的最后一个字的下标遍历\r\n",
        "        for j in range(i + 1, len(text) + 1):   # j 遍历[i + 1, len(text)]区间\r\n",
        "            word = text[i:j]                    # 取出连续区间[i, j]对应的字符串\r\n",
        "            if word in dic:                     # 如果在词典中，则认为是一个词\r\n",
        "                word_list.append(word)\r\n",
        "    return word_list\r\n",
        "  \r\n",
        "dic = load_dictionary()\r\n",
        "print(fully_segment('就读北京大学', dic))"
      ],
      "execution_count": null,
      "outputs": [
        {
          "output_type": "stream",
          "text": [
            "['就', '就读', '读', '北', '北京', '北京大学', '京', '大', '大学', '学']\n"
          ],
          "name": "stdout"
        }
      ]
    },
    {
      "cell_type": "markdown",
      "metadata": {
        "id": "uowiAh-IsxYW"
      },
      "source": [
        "正向最长匹配"
      ]
    },
    {
      "cell_type": "code",
      "metadata": {
        "id": "COVPbKcFURRX",
        "colab": {
          "base_uri": "https://localhost:8080/"
        },
        "outputId": "13bd71d4-13d6-4907-e83e-042f0194a9a6"
      },
      "source": [
        "def forward_segment(text, dic):\r\n",
        "    word_list = []\r\n",
        "    i = 0\r\n",
        "    while i < len(text):\r\n",
        "        longest_word = text[i]                      # 当前扫描位置的单字\r\n",
        "        for j in range(i + 1, len(text) + 1):       # 所有可能的结尾\r\n",
        "            word = text[i:j]                        # 从当前位置到结尾的连续字符串\r\n",
        "            if word in dic:                         # 在词典中\r\n",
        "                if len(word) > len(longest_word):   # 并且更长\r\n",
        "                    longest_word = word             # 则更优先输出\r\n",
        "        word_list.append(longest_word)              # 输出最长词\r\n",
        "        i += len(longest_word)                      # 正向扫描\r\n",
        "    return word_list\r\n",
        "\r\n",
        "dic = load_dictionary()\r\n",
        "print(forward_segment('就读北京大学', dic))\r\n",
        "print(forward_segment('研究生命起源', dic))"
      ],
      "execution_count": null,
      "outputs": [
        {
          "output_type": "stream",
          "text": [
            "['就读', '北京大学']\n",
            "['研究生', '命', '起源']\n"
          ],
          "name": "stdout"
        }
      ]
    },
    {
      "cell_type": "markdown",
      "metadata": {
        "id": "EgSWR6NJs7UV"
      },
      "source": [
        "逆向最长匹配"
      ]
    },
    {
      "cell_type": "code",
      "metadata": {
        "id": "kKb2Ul3Gs76i",
        "colab": {
          "base_uri": "https://localhost:8080/"
        },
        "outputId": "c7cced06-de8e-430a-a63b-e5f1c1df7d8a"
      },
      "source": [
        "def backward_segment(text, dic):\r\n",
        "    word_list = []\r\n",
        "    i = len(text) - 1\r\n",
        "    while i >= 0:                                   # 扫描位置作为终点\r\n",
        "        longest_word = text[i]                      # 扫描位置的单字\r\n",
        "        for j in range(0, i):                       # 遍历[0, i]区间作为待查询词语的起点\r\n",
        "            word = text[j: i + 1]                   # 取出[j, i]区间作为待查询单词\r\n",
        "            if word in dic:\r\n",
        "                if len(word) > len(longest_word):   # 越长优先级越高\r\n",
        "                    longest_word = word\r\n",
        "                    break\r\n",
        "        word_list.insert(0, longest_word)           # 逆向扫描，所以越先查出的单词在位置上越靠后\r\n",
        "        i -= len(longest_word)\r\n",
        "    return word_list\r\n",
        "\r\n",
        "dic = load_dictionary()\r\n",
        "print(backward_segment('研究生命起源', dic))\r\n",
        "print(backward_segment('项目的研究', dic))"
      ],
      "execution_count": null,
      "outputs": [
        {
          "output_type": "stream",
          "text": [
            "['研究', '生命', '起源']\n",
            "['项', '目的', '研究']\n"
          ],
          "name": "stdout"
        }
      ]
    },
    {
      "cell_type": "markdown",
      "metadata": {
        "id": "MSsVO03otbeA"
      },
      "source": [
        "双向最长匹配"
      ]
    },
    {
      "cell_type": "code",
      "metadata": {
        "id": "HmjAqWgQtfd8",
        "colab": {
          "base_uri": "https://localhost:8080/"
        },
        "outputId": "8a40ba44-25ce-44bc-9fa0-6a8038939b1d"
      },
      "source": [
        "def count_single_char(word_list: list):  # 统计单字成词的个数\r\n",
        "    return sum(1 for word in word_list if len(word) == 1)\r\n",
        "\r\n",
        "\r\n",
        "def bidirectional_segment(text, dic):\r\n",
        "    f = forward_segment(text, dic)\r\n",
        "    b = backward_segment(text, dic)\r\n",
        "    if len(f) < len(b):                                  # 词数更少优先级更高\r\n",
        "        return f\r\n",
        "    elif len(f) > len(b):\r\n",
        "        return b\r\n",
        "    else:\r\n",
        "        if count_single_char(f) < count_single_char(b):  # 单字更少优先级更高\r\n",
        "            return f\r\n",
        "        else:\r\n",
        "            return b                                     # 都相等时逆向匹配优先级更高\r\n",
        "        \r\n",
        "\r\n",
        "print(bidirectional_segment('研究生命起源', dic))\r\n",
        "print(bidirectional_segment('项目的研究', dic))"
      ],
      "execution_count": null,
      "outputs": [
        {
          "output_type": "stream",
          "text": [
            "['研究', '生命', '起源']\n",
            "['项', '目的', '研究']\n"
          ],
          "name": "stdout"
        }
      ]
    },
    {
      "cell_type": "markdown",
      "metadata": {
        "id": "A4Q8cOa8v6m8"
      },
      "source": [
        "# 字典树与HanLP词典分词实现"
      ]
    },
    {
      "cell_type": "code",
      "metadata": {
        "id": "WO-ZxVqvv8jk",
        "colab": {
          "base_uri": "https://localhost:8080/"
        },
        "outputId": "bc30c790-b3a8-41dd-cd2a-2c4240e7b155"
      },
      "source": [
        "\r\n",
        "## 节点类 \r\n",
        "class Node():\r\n",
        "    def __init__(self) -> None:\r\n",
        "        self.children = {}\r\n",
        "        self.value = None\r\n",
        "    \r\n",
        "    # 增加节点\r\n",
        "    def add_child(self, char, value, overwrite=False):\r\n",
        "        child = self.children.get(char)\r\n",
        "        if child is None:\r\n",
        "            child = Node()                # 创建子节点\r\n",
        "            self.children[char] = child   # 子节点赋值，字 -> 节点的映射\r\n",
        "        \r\n",
        "        if value is not None or overwrite:\r\n",
        "            child.value = value           # 节点上对应的词\r\n",
        "        \r\n",
        "        return child\r\n",
        "    \r\n",
        "## 字典树  继承节点类   \r\n",
        "class Trie(Node):\r\n",
        "\r\n",
        "    def __contains__(self, key):\r\n",
        "        return self[key] is not None\r\n",
        "    \r\n",
        "    # 查询方法\r\n",
        "    def __getitem__(self, key):\r\n",
        "        state = self\r\n",
        "        for char in key:\r\n",
        "            state = state.children.get(char)\r\n",
        "            if state is None:\r\n",
        "                return None\r\n",
        "        \r\n",
        "        return state.value\r\n",
        "    \r\n",
        "    # 重载方法，使得类可以像对待dict那样操作字典树\r\n",
        "    # 构建一个词的字典树\r\n",
        "    def __setitem__(self, key, value):\r\n",
        "        state = self\r\n",
        "        for i, char in enumerate(key):\r\n",
        "            if i < len(key) - 1:\r\n",
        "                state = state.add_child(char, None)\r\n",
        "            else:\r\n",
        "                state = state.add_child(char, value, True)\r\n",
        "\r\n",
        "\r\n",
        "if __name__ == '__main__':\r\n",
        "    trie = Trie()\r\n",
        "    # 增\r\n",
        "    trie['自然'] = 'nature'\r\n",
        "    trie['自然人'] = 'human'\r\n",
        "    trie['自然语言'] = 'language'\r\n",
        "    trie['自语'] = 'talk\tto oneself'\r\n",
        "    trie['入门'] = 'introduction'\r\n",
        "    assert '自然' in trie\r\n",
        "    # 删\r\n",
        "    trie['自然'] = None\r\n",
        "    assert '自然' not in trie\r\n",
        "    # 改\r\n",
        "    trie['自然语言'] = 'human language'\r\n",
        "    assert trie['自然语言'] == 'human language'\r\n",
        "    # 查\r\n",
        "    assert trie['入门'] == 'introduction'\r\n",
        "    print()\r\n"
      ],
      "execution_count": null,
      "outputs": [
        {
          "output_type": "stream",
          "text": [
            "\n"
          ],
          "name": "stdout"
        }
      ]
    },
    {
      "cell_type": "markdown",
      "metadata": {
        "id": "nZB2qRJjwC_5"
      },
      "source": [
        "HanLP的词典分词实现"
      ]
    },
    {
      "cell_type": "code",
      "metadata": {
        "id": "HblTZpmTwH5x",
        "colab": {
          "base_uri": "https://localhost:8080/"
        },
        "outputId": "a34619f2-7990-4b01-977e-d26166293c8f"
      },
      "source": [
        "!pip install pyhanlp"
      ],
      "execution_count": null,
      "outputs": [
        {
          "output_type": "stream",
          "text": [
            "Requirement already satisfied: pyhanlp in /usr/local/lib/python3.6/dist-packages (0.1.66)\n",
            "Requirement already satisfied: jpype1==0.7.0 in /usr/local/lib/python3.6/dist-packages (from pyhanlp) (0.7.0)\n"
          ],
          "name": "stdout"
        }
      ]
    },
    {
      "cell_type": "code",
      "metadata": {
        "colab": {
          "base_uri": "https://localhost:8080/",
          "height": 388
        },
        "id": "2omR7xIZwEA1",
        "outputId": "040f5ad8-5b16-45a0-a243-118a09dfeb9c"
      },
      "source": [
        "from pyhanlp import *\r\n",
        "\r\n",
        "# 不显示词性\r\n",
        "HanLP.Config.ShowTermNature = False\r\n",
        "\r\n",
        "# 可传入自定义字典 [dir1, dir2]\r\n",
        "segment = DoubleArrayTrieSegment()\r\n",
        "# 激活数字和英文识别\r\n",
        "segment.enablePartOfSpeechTagging(True)\r\n",
        "\r\n",
        "print(segment.seg(\"江西鄱阳湖干枯，中国最大淡水湖变成大草原\"))\r\n",
        "print(segment.seg(\"上海市虹口区大连西路550号SISU\"))"
      ],
      "execution_count": null,
      "outputs": [
        {
          "output_type": "error",
          "ename": "java.lang.IndexOutOfBoundsException",
          "evalue": "ignored",
          "traceback": [
            "\u001b[0;31m---------------------------------------------------------------------------\u001b[0m",
            "\u001b[0;31mjava.lang.IndexOutOfBoundsException\u001b[0m       Traceback (most recent call last)",
            "\u001b[0;32m<ipython-input-25-7105df8b9599>\u001b[0m in \u001b[0;36m<module>\u001b[0;34m()\u001b[0m\n\u001b[1;32m      5\u001b[0m \u001b[0;34m\u001b[0m\u001b[0m\n\u001b[1;32m      6\u001b[0m \u001b[0;31m# 可传入自定义字典 [dir1, dir2]\u001b[0m\u001b[0;34m\u001b[0m\u001b[0;34m\u001b[0m\u001b[0;34m\u001b[0m\u001b[0m\n\u001b[0;32m----> 7\u001b[0;31m \u001b[0msegment\u001b[0m \u001b[0;34m=\u001b[0m \u001b[0mDoubleArrayTrieSegment\u001b[0m\u001b[0;34m(\u001b[0m\u001b[0;34m)\u001b[0m\u001b[0;34m\u001b[0m\u001b[0;34m\u001b[0m\u001b[0m\n\u001b[0m\u001b[1;32m      8\u001b[0m \u001b[0;31m# 激活数字和英文识别\u001b[0m\u001b[0;34m\u001b[0m\u001b[0;34m\u001b[0m\u001b[0;34m\u001b[0m\u001b[0m\n\u001b[1;32m      9\u001b[0m \u001b[0msegment\u001b[0m\u001b[0;34m.\u001b[0m\u001b[0menablePartOfSpeechTagging\u001b[0m\u001b[0;34m(\u001b[0m\u001b[0;32mTrue\u001b[0m\u001b[0;34m)\u001b[0m\u001b[0;34m\u001b[0m\u001b[0;34m\u001b[0m\u001b[0m\n",
            "\u001b[0;32m/usr/local/lib/python3.6/dist-packages/pyhanlp/__init__.py\u001b[0m in \u001b[0;36m__call__\u001b[0;34m(self, *args)\u001b[0m\n\u001b[1;32m    171\u001b[0m             \u001b[0mproxy\u001b[0m \u001b[0;34m=\u001b[0m \u001b[0mself\u001b[0m\u001b[0;34m.\u001b[0m\u001b[0m_proxy\u001b[0m\u001b[0;34m(\u001b[0m\u001b[0;34m*\u001b[0m\u001b[0margs\u001b[0m\u001b[0;34m)\u001b[0m\u001b[0;34m\u001b[0m\u001b[0;34m\u001b[0m\u001b[0m\n\u001b[1;32m    172\u001b[0m         \u001b[0;32melse\u001b[0m\u001b[0;34m:\u001b[0m\u001b[0;34m\u001b[0m\u001b[0;34m\u001b[0m\u001b[0m\n\u001b[0;32m--> 173\u001b[0;31m             \u001b[0mproxy\u001b[0m \u001b[0;34m=\u001b[0m \u001b[0mself\u001b[0m\u001b[0;34m.\u001b[0m\u001b[0m_proxy\u001b[0m\u001b[0;34m(\u001b[0m\u001b[0;34m)\u001b[0m\u001b[0;34m\u001b[0m\u001b[0;34m\u001b[0m\u001b[0m\n\u001b[0m\u001b[1;32m    174\u001b[0m         \u001b[0;32mreturn\u001b[0m \u001b[0mSafeJClass\u001b[0m\u001b[0;34m(\u001b[0m\u001b[0mproxy\u001b[0m\u001b[0;34m)\u001b[0m\u001b[0;34m\u001b[0m\u001b[0;34m\u001b[0m\u001b[0m\n\u001b[1;32m    175\u001b[0m \u001b[0;34m\u001b[0m\u001b[0m\n",
            "\u001b[0;32m/usr/local/lib/python3.6/dist-packages/jpype/_jobject.py\u001b[0m in \u001b[0;36m__init__\u001b[0;34m(self, *args)\u001b[0m\n\u001b[1;32m     93\u001b[0m             \u001b[0mobject\u001b[0m\u001b[0;34m.\u001b[0m\u001b[0m__setattr__\u001b[0m\u001b[0;34m(\u001b[0m\u001b[0mself\u001b[0m\u001b[0;34m,\u001b[0m \u001b[0;34m'__javavalue__'\u001b[0m\u001b[0;34m,\u001b[0m \u001b[0margs\u001b[0m\u001b[0;34m[\u001b[0m\u001b[0;36m0\u001b[0m\u001b[0;34m]\u001b[0m\u001b[0;34m)\u001b[0m\u001b[0;34m\u001b[0m\u001b[0;34m\u001b[0m\u001b[0m\n\u001b[1;32m     94\u001b[0m         \u001b[0;32melif\u001b[0m \u001b[0;32mnot\u001b[0m \u001b[0mhasattr\u001b[0m\u001b[0;34m(\u001b[0m\u001b[0mself\u001b[0m\u001b[0;34m,\u001b[0m \u001b[0;34m'__javavalue__'\u001b[0m\u001b[0;34m)\u001b[0m\u001b[0;34m:\u001b[0m\u001b[0;34m\u001b[0m\u001b[0;34m\u001b[0m\u001b[0m\n\u001b[0;32m---> 95\u001b[0;31m             \u001b[0mjv\u001b[0m \u001b[0;34m=\u001b[0m \u001b[0mself\u001b[0m\u001b[0;34m.\u001b[0m\u001b[0m__class__\u001b[0m\u001b[0;34m.\u001b[0m\u001b[0m__javaclass__\u001b[0m\u001b[0;34m.\u001b[0m\u001b[0mnewInstance\u001b[0m\u001b[0;34m(\u001b[0m\u001b[0;34m*\u001b[0m\u001b[0margs\u001b[0m\u001b[0;34m)\u001b[0m\u001b[0;34m\u001b[0m\u001b[0;34m\u001b[0m\u001b[0m\n\u001b[0m\u001b[1;32m     96\u001b[0m             \u001b[0mobject\u001b[0m\u001b[0;34m.\u001b[0m\u001b[0m__setattr__\u001b[0m\u001b[0;34m(\u001b[0m\u001b[0mself\u001b[0m\u001b[0;34m,\u001b[0m \u001b[0;34m'__javavalue__'\u001b[0m\u001b[0;34m,\u001b[0m \u001b[0mjv\u001b[0m\u001b[0;34m)\u001b[0m\u001b[0;34m\u001b[0m\u001b[0;34m\u001b[0m\u001b[0m\n\u001b[1;32m     97\u001b[0m         \u001b[0msuper\u001b[0m\u001b[0;34m(\u001b[0m\u001b[0mJObject\u001b[0m\u001b[0;34m,\u001b[0m \u001b[0mself\u001b[0m\u001b[0;34m)\u001b[0m\u001b[0;34m.\u001b[0m\u001b[0m__init__\u001b[0m\u001b[0;34m(\u001b[0m\u001b[0;34m)\u001b[0m\u001b[0;34m\u001b[0m\u001b[0;34m\u001b[0m\u001b[0m\n",
            "\u001b[0;31mjava.lang.IndexOutOfBoundsException\u001b[0m: Index 0 out of bounds for length 0"
          ]
        }
      ]
    },
    {
      "cell_type": "markdown",
      "metadata": {
        "id": "BPGBA2dMxabZ"
      },
      "source": [
        "去掉停用词"
      ]
    },
    {
      "cell_type": "code",
      "metadata": {
        "id": "2wS6KHdVxa-C",
        "colab": {
          "base_uri": "https://localhost:8080/",
          "height": 241
        },
        "outputId": "4816f4bb-7b30-4f3d-a46c-6d3cc9142cab"
      },
      "source": [
        "def load_from_file(path):\r\n",
        "    \"\"\"\r\n",
        "    从词典文件加载DoubleArrayTrie\r\n",
        "    :param path: 词典路径\r\n",
        "    :return: 双数组trie树\r\n",
        "    \"\"\"\r\n",
        "    map = JClass('java.util.TreeMap')()  # 创建TreeMap实例\r\n",
        "    with open(path) as src:\r\n",
        "        for word in src:\r\n",
        "            word = word.strip()  # 去掉Python读入的\\n\r\n",
        "            map[word] = word\r\n",
        "    return JClass('com.hankcs.hanlp.collection.trie.DoubleArrayTrie')(map)\r\n",
        "\r\n",
        "\r\n",
        "## 去掉停用词\r\n",
        "def remove_stopwords_termlist(termlist, trie):\r\n",
        "    return [term.word for term in termlist if not trie.containsKey(term.word)]\r\n",
        "\r\n",
        "\r\n",
        "trie = load_from_file('stopwords.txt')\r\n",
        "termlist = segment.seg(\"江西鄱阳湖干枯了，中国最大的淡水湖变成了大草原\")\r\n",
        "print('去掉停用词前：', termlist)\r\n",
        "\r\n",
        "print('去掉停用词后：', remove_stopwords_termlist(termlist, trie))"
      ],
      "execution_count": null,
      "outputs": [
        {
          "output_type": "error",
          "ename": "NameError",
          "evalue": "ignored",
          "traceback": [
            "\u001b[0;31m---------------------------------------------------------------------------\u001b[0m",
            "\u001b[0;31mNameError\u001b[0m                                 Traceback (most recent call last)",
            "\u001b[0;32m<ipython-input-26-56472af8cfe0>\u001b[0m in \u001b[0;36m<module>\u001b[0;34m()\u001b[0m\n\u001b[1;32m     19\u001b[0m \u001b[0;34m\u001b[0m\u001b[0m\n\u001b[1;32m     20\u001b[0m \u001b[0mtrie\u001b[0m \u001b[0;34m=\u001b[0m \u001b[0mload_from_file\u001b[0m\u001b[0;34m(\u001b[0m\u001b[0;34m'stopwords.txt'\u001b[0m\u001b[0;34m)\u001b[0m\u001b[0;34m\u001b[0m\u001b[0;34m\u001b[0m\u001b[0m\n\u001b[0;32m---> 21\u001b[0;31m \u001b[0mtermlist\u001b[0m \u001b[0;34m=\u001b[0m \u001b[0msegment\u001b[0m\u001b[0;34m.\u001b[0m\u001b[0mseg\u001b[0m\u001b[0;34m(\u001b[0m\u001b[0;34m\"江西鄱阳湖干枯了，中国最大的淡水湖变成了大草原\"\u001b[0m\u001b[0;34m)\u001b[0m\u001b[0;34m\u001b[0m\u001b[0;34m\u001b[0m\u001b[0m\n\u001b[0m\u001b[1;32m     22\u001b[0m \u001b[0mprint\u001b[0m\u001b[0;34m(\u001b[0m\u001b[0;34m'去掉停用词前：'\u001b[0m\u001b[0;34m,\u001b[0m \u001b[0mtermlist\u001b[0m\u001b[0;34m)\u001b[0m\u001b[0;34m\u001b[0m\u001b[0;34m\u001b[0m\u001b[0m\n\u001b[1;32m     23\u001b[0m \u001b[0;34m\u001b[0m\u001b[0m\n",
            "\u001b[0;31mNameError\u001b[0m: name 'segment' is not defined"
          ]
        }
      ]
    },
    {
      "cell_type": "markdown",
      "metadata": {
        "id": "ucTmCseHx5Pu"
      },
      "source": [
        "# 二元语法与中文分词"
      ]
    },
    {
      "cell_type": "markdown",
      "metadata": {
        "id": "tv0pe756y3jx"
      },
      "source": [
        "训练与预测"
      ]
    },
    {
      "cell_type": "code",
      "metadata": {
        "id": "w3moCX_oyhD1",
        "colab": {
          "base_uri": "https://localhost:8080/"
        },
        "outputId": "30f1056d-8f2e-4066-dc2f-1b13e1ff1f07"
      },
      "source": [
        "from pyhanlp import *\r\n",
        "from jpype import JString\r\n",
        "\r\n",
        "## 加载 JAVA 类\r\n",
        "CorpusLoader = SafeJClass('com.hankcs.hanlp.corpus.document.CorpusLoader')\r\n",
        "NatureDictionaryMaker = SafeJClass('com.hankcs.hanlp.corpus.dictionary.NatureDictionaryMaker')\r\n",
        "CoreDictionary = LazyLoadingJClass('com.hankcs.hanlp.dictionary.CoreDictionary')\r\n",
        "WordNet = JClass('com.hankcs.hanlp.seg.common.WordNet')\r\n",
        "Vertex = JClass('com.hankcs.hanlp.seg.common.Vertex')\r\n",
        "\r\n",
        "\r\n",
        "def generate_wordnet(sent, trie):\r\n",
        "    \"\"\"\r\n",
        "    生成词网\r\n",
        "    :param sent: 句子\r\n",
        "    :param trie: 词典（unigram）\r\n",
        "    :return: 词网\r\n",
        "    \"\"\"\r\n",
        "    searcher = trie.getSearcher(JString(sent), 0)\r\n",
        "    wordnet = WordNet(sent)\r\n",
        "    while searcher.next():\r\n",
        "        wordnet.add(searcher.begin + 1,\r\n",
        "                    Vertex(sent[searcher.begin:searcher.begin + searcher.length], searcher.value, searcher.index))\r\n",
        "    # 原子分词，保证图连通\r\n",
        "    vertexes = wordnet.getVertexes()\r\n",
        "    i = 0\r\n",
        "    while i < len(vertexes):\r\n",
        "        if len(vertexes[i]) == 0:  # 空白行\r\n",
        "            j = i + 1\r\n",
        "            for j in range(i + 1, len(vertexes) - 1):  # 寻找第一个非空行 j\r\n",
        "                if len(vertexes[j]):\r\n",
        "                    break\r\n",
        "            wordnet.add(i, Vertex.newPunctuationInstance(sent[i - 1: j - 1]))  # 填充[i, j)之间的空白行\r\n",
        "            i = j\r\n",
        "        else:\r\n",
        "            i += len(vertexes[i][-1].realWord)\r\n",
        "\r\n",
        "    return wordnet\r\n",
        "\r\n",
        "\r\n",
        "## 维特比算法\r\n",
        "def viterbi(wordnet):\r\n",
        "    nodes = wordnet.getVertexes()\r\n",
        "    # 前向遍历\r\n",
        "    for i in range(0, len(nodes) - 1):\r\n",
        "        for node in nodes[i]:\r\n",
        "            for to in nodes[i + len(node.realWord)]:\r\n",
        "                to.updateFrom(node)  # 根据距离公式计算节点距离，并维护最短路径上的前驱指针from\r\n",
        "    # 后向回溯\r\n",
        "    path = []  # 最短路径\r\n",
        "    f = nodes[len(nodes) - 1].getFirst()  # 从终点回溯\r\n",
        "    while f:\r\n",
        "        path.insert(0, f)\r\n",
        "        f = f.getFrom()  # 按前驱指针from回溯\r\n",
        "    return [v.realWord for v in path]\r\n",
        "\r\n",
        "\r\n",
        "## 训练n元语法模型\r\n",
        "def train_bigram(corpus_path, model_path):\r\n",
        "    sents = CorpusLoader.convert2SentenceList(corpus_path)\r\n",
        "    for sent in sents:\r\n",
        "        for word in sent:\r\n",
        "            word.setLabel(\"n\")\r\n",
        "    \r\n",
        "    maker = NatureDictionaryMaker()\r\n",
        "    maker.compute(sents)\r\n",
        "    maker.saveTxtTo(model_path)      # 会生成两个统计词频文件\r\n",
        "\r\n",
        "## 加载 n元语法模型\r\n",
        "def load_bigram(model_path, sent):\r\n",
        "    HanLP.Config.CoreDictionaryPath = model_path + \".txt\"  # unigram\r\n",
        "    HanLP.Config.BiGramDictionaryPath = model_path + \".ngram.txt\"  # bigram\r\n",
        "    \r\n",
        "    wordnet = generate_wordnet(sent, CoreDictionary.trie)\r\n",
        "    print(viterbi(wordnet))\r\n",
        "\r\n",
        "\r\n",
        "\r\n",
        "corpus_path = 'my_cws_corpus.txt' # 语料库文件\r\n",
        "model_path = 'my_cws_model'       # 模型保存路径\r\n",
        "sent = '货币和服务'                 # 需要分词的语句\r\n",
        "\r\n",
        "train_bigram(corpus_path, model_path)\r\n",
        "load_bigram(model_path, sent)\r\n",
        "\r\n",
        "\r\n",
        "\r\n"
      ],
      "execution_count": null,
      "outputs": [
        {
          "output_type": "stream",
          "text": [
            "[' ', '货币', '和', '服务', ' ']\n"
          ],
          "name": "stdout"
        }
      ]
    },
    {
      "cell_type": "markdown",
      "metadata": {
        "id": "-EiIw8lyzZM-"
      },
      "source": [
        "HanLP分词器简洁版："
      ]
    },
    {
      "cell_type": "code",
      "metadata": {
        "id": "fmm4nTeyzVO9",
        "colab": {
          "base_uri": "https://localhost:8080/"
        },
        "outputId": "d90d2d33-2b91-425f-daaa-364e30d33e87"
      },
      "source": [
        "from pyhanlp import *\r\n",
        "\r\n",
        "ViterbiSegment = SafeJClass('com.hankcs.hanlp.seg.Viterbi.ViterbiSegment')\r\n",
        "\r\n",
        "segment = ViterbiSegment()\r\n",
        "sentence = \"社会摇摆简称社会摇\"\r\n",
        "segment.enableCustomDictionary(False)\r\n",
        "print(\"不挂载词典：\", segment.seg(sentence))\r\n",
        "CustomDictionary.insert(\"社会摇\", \"nz 100\")\r\n",
        "segment.enableCustomDictionary(True)\r\n",
        "print(\"低优先级词典：\", segment.seg(sentence))\r\n",
        "segment.enableCustomDictionaryForcing(True)\r\n",
        "print(\"高优先级词典：\", segment.seg(sentence))"
      ],
      "execution_count": null,
      "outputs": [
        {
          "output_type": "stream",
          "text": [
            "不挂载词典： [社会摇摆简称社会摇]\n",
            "低优先级词典： [社会摇摆简称社会摇]\n",
            "高优先级词典： [社会摇, 摆简称, 社会摇]\n"
          ],
          "name": "stdout"
        }
      ]
    },
    {
      "cell_type": "markdown",
      "metadata": {
        "id": "hQqJ87Pzzj-G"
      },
      "source": [
        "可见，用户词典的高优先级未必是件好事"
      ]
    },
    {
      "cell_type": "markdown",
      "metadata": {
        "id": "JU5016iTlmPr"
      },
      "source": [
        "# 隐马尔可夫模型与序列标注"
      ]
    },
    {
      "cell_type": "markdown",
      "metadata": {
        "id": "Gti6OiZLl-iZ"
      },
      "source": [
        "## 隐马尔可夫模型的训练"
      ]
    },
    {
      "cell_type": "markdown",
      "metadata": {
        "id": "2rq3HhO9mWA9"
      },
      "source": [
        "案例假设和模型构造"
      ]
    },
    {
      "cell_type": "code",
      "metadata": {
        "id": "L7ESYbUjmJtz"
      },
      "source": [
        "import numpy as np\r\n",
        "from pyhanlp import *\r\n",
        "from jpype import JArray, JFloat, JInt\r\n",
        "\r\n",
        "to_str = JClass('java.util.Arrays').toString\r\n",
        "\r\n",
        "## 隐马尔可夫模型描述\r\n",
        "states = ('Healthy', 'Fever')\r\n",
        "start_probability = {'Healthy': 0.6, 'Fever': 0.4}\r\n",
        "transition_probability = {\r\n",
        "    'Healthy': {'Healthy': 0.7, 'Fever': 0.3},\r\n",
        "    'Fever': {'Healthy': 0.4, 'Fever': 0.6},\r\n",
        "}\r\n",
        "emission_probability = {\r\n",
        "    'Healthy': {'normal': 0.5, 'cold': 0.4, 'dizzy': 0.1},\r\n",
        "    'Fever': {'normal': 0.1, 'cold': 0.3, 'dizzy': 0.6},\r\n",
        "}\r\n",
        "observations = ('normal', 'cold', 'dizzy')\r\n",
        "\r\n",
        "\r\n",
        "def generate_index_map(lables):\r\n",
        "    index_label = {}\r\n",
        "    label_index = {}\r\n",
        "    i = 0\r\n",
        "    for l in lables:\r\n",
        "        index_label[i] = l\r\n",
        "        label_index[l] = i\r\n",
        "        i += 1\r\n",
        "    return label_index, index_label\r\n",
        "\r\n",
        "\r\n",
        "states_label_index, states_index_label = generate_index_map(states)\r\n",
        "observations_label_index, observations_index_label = generate_index_map(observations)\r\n",
        "\r\n",
        "\r\n",
        "\r\n",
        "def convert_map_to_matrix(map, label_index1, label_index2):\r\n",
        "    m = np.empty((len(label_index1), len(label_index2)), dtype=float)\r\n",
        "    for line in map:\r\n",
        "        for col in map[line]:\r\n",
        "            m[label_index1[line]][label_index2[col]] = map[line][col]\r\n",
        "    return JArray(JFloat, m.ndim)(m.tolist())\r\n",
        "\r\n",
        "def convert_observations_to_index(observations, label_index):\r\n",
        "    list = []\r\n",
        "    for o in observations:\r\n",
        "        list.append(label_index[o])\r\n",
        "    return list\r\n",
        "\r\n",
        "def convert_map_to_vector(map, label_index):\r\n",
        "    v = np.empty(len(map), dtype=float)\r\n",
        "    for e in map:\r\n",
        "        v[label_index[e]] = map[e]\r\n",
        "    return JArray(JFloat, v.ndim)(v.tolist())  # 将numpy数组转为Java数组\r\n",
        "\r\n",
        "\r\n",
        "## pi：初始状态概率向量\r\n",
        "## A：状态转移概率矩阵\r\n",
        "## B：发射概率矩阵\r\n",
        "A = convert_map_to_matrix(transition_probability, states_label_index, states_label_index)\r\n",
        "B = convert_map_to_matrix(emission_probability, states_label_index, observations_label_index)\r\n",
        "observations_index = convert_observations_to_index(observations, observations_label_index)\r\n",
        "pi = convert_map_to_vector(start_probability, states_label_index)\r\n",
        "\r\n",
        "FirstOrderHiddenMarkovModel = JClass('com.hankcs.hanlp.model.hmm.FirstOrderHiddenMarkovModel')\r\n",
        "given_model = FirstOrderHiddenMarkovModel(pi, A, B)"
      ],
      "execution_count": null,
      "outputs": []
    },
    {
      "cell_type": "markdown",
      "metadata": {
        "id": "-gWOce9GmYL3"
      },
      "source": [
        "样本生成算法"
      ]
    },
    {
      "cell_type": "code",
      "metadata": {
        "id": "QmVPw4YhmZ2O",
        "colab": {
          "base_uri": "https://localhost:8080/"
        },
        "outputId": "781fbcf1-6e5e-4762-a54a-dfc10cc7e8b9"
      },
      "source": [
        "## 第一个参数：序列最低长度\r\n",
        "## 第二个参数：序列最高长度\r\n",
        "## 第三个参数：需要生成的样本数\r\n",
        "for O, S in given_model.generate(3, 5, 2):\r\n",
        "    print(\" \".join((observations_index_label[o] + '/' + states_index_label[s]) for o, s in zip(O, S)))"
      ],
      "execution_count": null,
      "outputs": [
        {
          "output_type": "stream",
          "text": [
            "dizzy/Fever dizzy/Healthy dizzy/Healthy normal/Healthy\n",
            "dizzy/Fever normal/Healthy dizzy/Healthy\n"
          ],
          "name": "stdout"
        }
      ]
    },
    {
      "cell_type": "markdown",
      "metadata": {
        "id": "R4gzV54Imqh7"
      },
      "source": [
        "隐马尔可夫模型的训练"
      ]
    },
    {
      "cell_type": "code",
      "metadata": {
        "id": "Di4O80rZms6j",
        "colab": {
          "base_uri": "https://localhost:8080/"
        },
        "outputId": "c8891062-cc80-4c08-b288-180bd602d165"
      },
      "source": [
        "trained_model = FirstOrderHiddenMarkovModel()\r\n",
        "\r\n",
        "## 第一个参数：序列最低长度\r\n",
        "## 第二个参数：序列最高长度\r\n",
        "## 第三个参数：需要生成的样本数\r\n",
        "trained_model.train(given_model.generate(3, 10, 100000))\r\n",
        "print('新模型与旧模型是否相同：', trained_model.similar(given_model))"
      ],
      "execution_count": null,
      "outputs": [
        {
          "output_type": "stream",
          "text": [
            "新模型与旧模型是否相同： False\n"
          ],
          "name": "stdout"
        }
      ]
    },
    {
      "cell_type": "markdown",
      "metadata": {
        "id": "pwwaOadbnGf_"
      },
      "source": [
        "搜索状态序列的维特比算法"
      ]
    },
    {
      "cell_type": "markdown",
      "metadata": {
        "id": "YMsI3_EjnAdI"
      },
      "source": [
        "## 隐马尔可夫模型的预测"
      ]
    },
    {
      "cell_type": "code",
      "metadata": {
        "id": "9GGXqO4CnYO-",
        "colab": {
          "base_uri": "https://localhost:8080/"
        },
        "outputId": "5f168035-73c7-4c91-825a-d5059a40d9fa"
      },
      "source": [
        "pred = JArray(JInt, 1)([0, 0, 0])\r\n",
        "prob = given_model.predict(observations_index, pred)\r\n",
        "print(\" \".join((observations_index_label[o] + '/' + states_index_label[s]) for o, s in\r\n",
        "               zip(observations_index, pred)) + \" {:.3f}\".format(np.math.exp(prob)))"
      ],
      "execution_count": null,
      "outputs": [
        {
          "output_type": "stream",
          "text": [
            "normal/Healthy cold/Healthy dizzy/Fever 0.015\n"
          ],
          "name": "stdout"
        }
      ]
    },
    {
      "cell_type": "markdown",
      "metadata": {
        "id": "U42bXzQYtU2M"
      },
      "source": [
        "# 感知机模型与序列标注"
      ]
    },
    {
      "cell_type": "markdown",
      "metadata": {
        "id": "j-L8w6EoteD4"
      },
      "source": [
        "## 基于感知机的人名性别分类"
      ]
    },
    {
      "cell_type": "code",
      "metadata": {
        "colab": {
          "base_uri": "https://localhost:8080/"
        },
        "id": "W4cry7decQwW",
        "outputId": "dd241b2d-5e5e-4c1d-e3a8-8c257e418dbb"
      },
      "source": [
        "## 切换到当前路径下\r\n",
        "import os\r\n",
        "path = '/content/drive/MyDrive/Colab Notebooks/NLPTest'\r\n",
        "os.chdir(path)\r\n",
        "os.listdir(path)\r\n"
      ],
      "execution_count": null,
      "outputs": [
        {
          "output_type": "execute_result",
          "data": {
            "text/plain": [
              "['CoreNatureDictionary.mini.txt',\n",
              " 'my_cws_corpus.txt',\n",
              " 'stopwords.txt',\n",
              " 'testnlp.ipynb',\n",
              " 'my_cws_model.txt',\n",
              " 'my_cws_model.ngram.txt',\n",
              " 'my_cws_model.tr.txt',\n",
              " 'my_cws_model.txt.bin',\n",
              " 'my_cws_model.ngram.txt.table.bin']"
            ]
          },
          "metadata": {
            "tags": []
          },
          "execution_count": 33
        }
      ]
    },
    {
      "cell_type": "code",
      "metadata": {
        "id": "QxFhbN8Pjr-F"
      },
      "source": [
        "pip install pyhanlp"
      ],
      "execution_count": null,
      "outputs": []
    },
    {
      "cell_type": "code",
      "metadata": {
        "id": "fU4GTbpFtiYb",
        "colab": {
          "base_uri": "https://localhost:8080/"
        },
        "outputId": "07039452-508a-4bd9-e7ed-0215bc70f5d9"
      },
      "source": [
        "from pyhanlp import *\r\n",
        "from pyhanlp.static import download, remove_file, HANLP_DATA_PATH\r\n",
        "\r\n",
        "import zipfile\r\n",
        "import os\r\n",
        "\r\n",
        "def test_data_path():\r\n",
        "    \"\"\"\r\n",
        "    获取测试数据路径，位于$root/data/test，根目录由配置文件指定。\r\n",
        "    :return:\r\n",
        "    \"\"\"\r\n",
        "    data_path = os.path.join(HANLP_DATA_PATH, 'test')\r\n",
        "    if not os.path.isdir(data_path):\r\n",
        "        os.mkdir(data_path)\r\n",
        "    return data_path\r\n",
        "\r\n",
        "## 验证是否存在 cnname 人名性别语料库，如果没有自动下载\r\n",
        "def ensure_data(data_name, data_url):\r\n",
        "    root_path = test_data_path()\r\n",
        "    dest_path = os.path.join(root_path, data_name)\r\n",
        "    if os.path.exists(dest_path):\r\n",
        "        return dest_path\r\n",
        "    \r\n",
        "    if data_url.endswith('.zip'):\r\n",
        "        dest_path += '.zip'\r\n",
        "    download(data_url, dest_path)\r\n",
        "    if data_url.endswith('.zip'):\r\n",
        "        with zipfile.ZipFile(dest_path, \"r\") as archive:\r\n",
        "            archive.extractall(root_path)\r\n",
        "        remove_file(dest_path)\r\n",
        "        dest_path = dest_path[:-len('.zip')]\r\n",
        "    return dest_path\r\n",
        "\r\n",
        "\r\n",
        "## ===============================================\r\n",
        "## 以下开始中文分词\r\n",
        "\r\n",
        "\r\n",
        "PerceptronNameGenderClassifier = JClass('com.hankcs.hanlp.model.perceptron.PerceptronNameGenderClassifier')\r\n",
        "cnname = ensure_data('cnname', 'http://file.hankcs.com/corpus/cnname.zip')\r\n",
        "TRAINING_SET = os.path.join(cnname, 'train.csv')\r\n",
        "TESTING_SET = os.path.join(cnname, 'test.csv')\r\n",
        "MODEL = cnname + \".bin\"\r\n",
        "\r\n",
        "\r\n",
        "def run_classifier(averaged_perceptron):\r\n",
        "    print('=====%s=====' % ('平均感知机算法' if averaged_perceptron else '朴素感知机算法'))\r\n",
        "    \r\n",
        "    # 感知机模型\r\n",
        "    classifier = PerceptronNameGenderClassifier()\r\n",
        "    print('训练集准确率：', classifier.train(TRAINING_SET, 10, averaged_perceptron))\r\n",
        "    model = classifier.getModel()\r\n",
        "    print('特征数量：', len(model.parameter))\r\n",
        "    # model.save(MODEL, model.featureMap.entrySet(), 0, True)\r\n",
        "    # classifier = PerceptronNameGenderClassifier(MODEL)\r\n",
        "    for name in \"赵建军\", \"沈雁冰\", \"陆雪琪\", \"李冰冰\":\r\n",
        "        print('%s=%s' % (name, classifier.predict(name)))\r\n",
        "    print('测试集准确率：', classifier.evaluate(TESTING_SET))\r\n",
        "\r\n",
        "\r\n",
        "if __name__ == '__main__':\r\n",
        "    run_classifier(False)\r\n",
        "    run_classifier(True)"
      ],
      "execution_count": null,
      "outputs": [
        {
          "output_type": "stream",
          "text": [
            "下载 http://file.hankcs.com/corpus/cnname.zip 到 /usr/local/lib/python3.6/dist-packages/pyhanlp/static/data/test/cnname.zip\n",
            "100.00%, 1 MB, 1316 KB/s, 还有 0 分  0 秒   \n",
            "=====朴素感知机算法=====\n",
            "训练集准确率： P=86.07 R=85.38 F1=85.72\n",
            "特征数量： 9089\n",
            "赵建军=男\n",
            "沈雁冰=男\n",
            "陆雪琪=男\n",
            "李冰冰=女\n",
            "测试集准确率： P=83.64 R=82.71 F1=83.17\n",
            "=====平均感知机算法=====\n",
            "训练集准确率： P=93.57 R=83.06 F1=88.00\n",
            "特征数量： 9089\n",
            "赵建军=男\n",
            "沈雁冰=男\n",
            "陆雪琪=女\n",
            "李冰冰=女\n",
            "测试集准确率： P=90.90 R=80.44 F1=85.35\n"
          ],
          "name": "stdout"
        }
      ]
    },
    {
      "cell_type": "markdown",
      "metadata": {
        "id": "ZaSqBbRTuUNe"
      },
      "source": [
        "## 基于结构化感知机的中文分词"
      ]
    },
    {
      "cell_type": "code",
      "metadata": {
        "id": "wpBXiygvuYof",
        "colab": {
          "base_uri": "https://localhost:8080/"
        },
        "outputId": "e7dfb961-9789-47b8-d0d2-ccb39405c7c9"
      },
      "source": [
        "import zipfile\r\n",
        "import os\r\n",
        "\r\n",
        "from pyhanlp import *\r\n",
        "from pyhanlp.static import download, remove_file, HANLP_DATA_PATH\r\n",
        "\r\n",
        "\r\n",
        "def test_data_path():\r\n",
        "    \"\"\"\r\n",
        "    获取测试数据路径，位于$root/data/test，根目录由配置文件指定。\r\n",
        "    :return:\r\n",
        "    \"\"\"\r\n",
        "    data_path = os.path.join(HANLP_DATA_PATH, 'test')\r\n",
        "    if not os.path.isdir(data_path):\r\n",
        "        os.mkdir(data_path)\r\n",
        "    return data_path\r\n",
        "\r\n",
        "## 验证是否存在 MSR语料库，如果没有自动下载\r\n",
        "def ensure_data(data_name, data_url):\r\n",
        "    root_path = test_data_path()\r\n",
        "    dest_path = os.path.join(root_path, data_name)\r\n",
        "    if os.path.exists(dest_path):\r\n",
        "        return dest_path\r\n",
        "    \r\n",
        "    if data_url.endswith('.zip'):\r\n",
        "        dest_path += '.zip'\r\n",
        "    download(data_url, dest_path)\r\n",
        "    if data_url.endswith('.zip'):\r\n",
        "        with zipfile.ZipFile(dest_path, \"r\") as archive:\r\n",
        "            archive.extractall(root_path)\r\n",
        "        remove_file(dest_path)\r\n",
        "        dest_path = dest_path[:-len('.zip')]\r\n",
        "    return dest_path\r\n",
        "\r\n",
        "\r\n",
        "sighan05 = ensure_data('icwb2-data', 'http://sighan.cs.uchicago.edu/bakeoff2005/data/icwb2-data.zip')\r\n",
        "msr_train = os.path.join(sighan05, 'training', 'msr_training.utf8')\r\n",
        "msr_model = os.path.join(test_data_path(), 'msr_cws')\r\n",
        "msr_test = os.path.join(sighan05, 'testing', 'msr_test.utf8')\r\n",
        "msr_output = os.path.join(sighan05, 'testing', 'msr_bigram_output.txt')\r\n",
        "msr_gold = os.path.join(sighan05, 'gold', 'msr_test_gold.utf8')\r\n",
        "msr_dict = os.path.join(sighan05, 'gold', 'msr_training_words.utf8')\r\n",
        "\r\n",
        "## ===============================================\r\n",
        "## 以下开始中文分词\r\n",
        "\r\n",
        "\r\n",
        "\r\n",
        "CWSTrainer = JClass('com.hankcs.hanlp.model.perceptron.CWSTrainer')\r\n",
        "CWSEvaluator = SafeJClass('com.hankcs.hanlp.seg.common.CWSEvaluator')\r\n",
        "HanLP.Config.ShowTermNature = False   # 关闭显示词性\r\n",
        "\r\n",
        "\r\n",
        "def train_uncompressed_model():\r\n",
        "    model = CWSTrainer().train(msr_train, msr_train, msr_model, 0., 10, 8).getModel()  # 训练模型\r\n",
        "    model.save(msr_train, model.featureMap.entrySet(), 0, True)  # 最后一个参数指定导出txt\r\n",
        "\r\n",
        "\r\n",
        "def train():\r\n",
        "    model = CWSTrainer().train(msr_train, msr_model).getModel()  # 训练感知机模型\r\n",
        "    segment = PerceptronLexicalAnalyzer(model).enableCustomDictionary(False)  # 创建感知机分词器\r\n",
        "    print(CWSEvaluator.evaluate(segment, msr_test, msr_output, msr_gold, msr_dict))  # 标准化评测\r\n",
        "    return segment\r\n",
        "    \r\n",
        "\r\n",
        "\r\n",
        "segment = train() \r\n",
        "sents = [\r\n",
        "    \"王思斌，男，１９４９年１０月生。\",\r\n",
        "    \"山东桓台县起凤镇穆寨村妇女穆玲英\",\r\n",
        "    \"现为中国艺术研究院中国文化研究所研究员。\",\r\n",
        "    \"我们的父母重男轻女\",\r\n",
        "    \"北京输气管道工程\",\r\n",
        "]\r\n",
        "for sent in sents:\r\n",
        "    print(segment.seg(sent))\r\n",
        "# train_uncompressed_model()"
      ],
      "execution_count": null,
      "outputs": [
        {
          "output_type": "stream",
          "text": [
            "使用本地 /usr/local/lib/python3.6/dist-packages/pyhanlp/static/data/test/icwb2-data.zip, 忽略 http://sighan.cs.uchicago.edu/bakeoff2005/data/icwb2-data.zip\n"
          ],
          "name": "stdout"
        }
      ]
    },
    {
      "cell_type": "markdown",
      "metadata": {
        "id": "KfOoAlcNkHex"
      },
      "source": [
        "# 条件随机场与序列标注"
      ]
    },
    {
      "cell_type": "markdown",
      "metadata": {
        "id": "RZUOT8BilEMk"
      },
      "source": [
        "HanLP中的CRF++ API"
      ]
    },
    {
      "cell_type": "code",
      "metadata": {
        "id": "_FBqzu7e3_1B",
        "colab": {
          "base_uri": "https://localhost:8080/"
        },
        "outputId": "3a5d26c4-c4a9-4683-f941-9e5ff238a992"
      },
      "source": [
        "pip install pyhanlp"
      ],
      "execution_count": null,
      "outputs": [
        {
          "output_type": "stream",
          "text": [
            "Collecting pyhanlp\n",
            "\u001b[?25l  Downloading https://files.pythonhosted.org/packages/9a/f1/38c5012dbe652fbd7d701fdf77682c6de0a4527aa4dd5ec20d191b077768/pyhanlp-0.1.67.tar.gz (87kB)\n",
            "\u001b[K     |████████████████████████████████| 92kB 4.5MB/s \n",
            "\u001b[?25hCollecting jpype1==0.7.0\n",
            "\u001b[?25l  Downloading https://files.pythonhosted.org/packages/07/09/e19ce27d41d4f66d73ac5b6c6a188c51b506f56c7bfbe6c1491db2d15995/JPype1-0.7.0-cp36-cp36m-manylinux2010_x86_64.whl (2.7MB)\n",
            "\u001b[K     |████████████████████████████████| 2.7MB 26.9MB/s \n",
            "\u001b[?25hBuilding wheels for collected packages: pyhanlp\n",
            "  Building wheel for pyhanlp (setup.py) ... \u001b[?25l\u001b[?25hdone\n",
            "  Created wheel for pyhanlp: filename=pyhanlp-0.1.67-py2.py3-none-any.whl size=30031 sha256=2cd3e87f90d1c5d99bcb0c2aa2c2032a025323fa414153cde42b9737d6621cd3\n",
            "  Stored in directory: /root/.cache/pip/wheels/1f/82/e7/8a16944621d845eddf8277fa14a0194941f5bbad86ddce7cd1\n",
            "Successfully built pyhanlp\n",
            "Installing collected packages: jpype1, pyhanlp\n",
            "Successfully installed jpype1-0.7.0 pyhanlp-0.1.67\n"
          ],
          "name": "stdout"
        }
      ]
    },
    {
      "cell_type": "code",
      "metadata": {
        "id": "2fWWfXjDkLfH",
        "colab": {
          "base_uri": "https://localhost:8080/"
        },
        "outputId": "3d932583-907c-4d22-98f2-b697ae799c20"
      },
      "source": [
        "## 切换到当前路径下\r\n",
        "import os\r\n",
        "import zipfile\r\n",
        "path = '/content/drive/MyDrive/Colab Notebooks/NLPTest'\r\n",
        "os.chdir(path)\r\n",
        "os.listdir(path)\r\n",
        "\r\n",
        "from pyhanlp import *\r\n",
        "from pyhanlp.static import download, remove_file, HANLP_DATA_PATH\r\n",
        "import os\r\n",
        "\r\n",
        "CRFSegmenter = JClass('com.hankcs.hanlp.model.crf.CRFSegmenter')\r\n",
        "CRFLexicalAnalyzer = JClass('com.hankcs.hanlp.model.crf.CRFLexicalAnalyzer')\r\n",
        "CWSEvaluator = SafeJClass('com.hankcs.hanlp.seg.common.CWSEvaluator')\r\n",
        "\r\n",
        "\r\n",
        "\r\n",
        "def test_data_path():\r\n",
        "    \"\"\"\r\n",
        "    获取测试数据路径，位于$root/data/test，根目录由配置文件指定。\r\n",
        "    :return:\r\n",
        "    \"\"\"\r\n",
        "    data_path = os.path.join(HANLP_DATA_PATH, 'test')\r\n",
        "    if not os.path.isdir(data_path):\r\n",
        "        os.mkdir(data_path)\r\n",
        "    return data_path\r\n",
        "\r\n",
        "\r\n",
        "\r\n",
        "## 验证是否存在 MSR语料库，如果没有自动下载\r\n",
        "def ensure_data(data_name, data_url):\r\n",
        "    root_path = test_data_path()\r\n",
        "    dest_path = os.path.join(root_path, data_name)\r\n",
        "    if os.path.exists(dest_path):\r\n",
        "        return dest_path\r\n",
        "    \r\n",
        "    if data_url.endswith('.zip'):\r\n",
        "        dest_path += '.zip'\r\n",
        "    download(data_url, dest_path)\r\n",
        "    if data_url.endswith('.zip'):\r\n",
        "        with zipfile.ZipFile(dest_path, \"r\") as archive:\r\n",
        "            archive.extractall(root_path)\r\n",
        "        remove_file(dest_path)\r\n",
        "        dest_path = dest_path[:-len('.zip')]\r\n",
        "    return dest_path\r\n",
        "\r\n",
        "sighan05 = ensure_data('icwb2-data', 'http://sighan.cs.uchicago.edu/bakeoff2005/data/icwb2-data.zip')\r\n",
        "msr_dict = os.path.join(sighan05, 'gold', 'msr_training_words.utf8')\r\n",
        "msr_train = os.path.join(sighan05, 'training', 'msr_training.utf8')\r\n",
        "msr_model = os.path.join(test_data_path(), 'msr_cws')\r\n",
        "msr_test = os.path.join(sighan05, 'testing', 'msr_test.utf8')\r\n",
        "msr_output = os.path.join(sighan05, 'testing', 'msr_bigram_output.txt')\r\n",
        "msr_gold = os.path.join(sighan05, 'gold', 'msr_test_gold.utf8')\r\n",
        "\r\n",
        "\r\n",
        "CRF_MODEL_PATH = test_data_path() + \"/crf-cws-model\"\r\n",
        "CRF_MODEL_TXT_PATH = test_data_path() + \"/crf-cws-model.txt\"\r\n",
        "\r\n",
        "\r\n",
        "## ===============================================\r\n",
        "## 以下开始 CRF 中文分词\r\n",
        "\r\n",
        "\r\n",
        "def train(corpus):\r\n",
        "    segmenter = CRFSegmenter(None)             # 创建 CRF 分词器\r\n",
        "    segmenter.train(corpus, CRF_MODEL_PATH)\r\n",
        "    return CRFLexicalAnalyzer(segmenter)\r\n",
        "    # 训练完毕时，可传入txt格式的模型（不可传入CRF++的二进制模型，不兼容！）\r\n",
        "    # return CRFLexicalAnalyzer(CRF_MODEL_TXT_PATH).enableCustomDictionary(False)\r\n",
        "\r\n",
        "\r\n",
        "segment = train(msr_train)\r\n",
        "print(CWSEvaluator.evaluate(segment, msr_test, msr_output, msr_gold, msr_dict))  # 标准化评测\r\n"
      ],
      "execution_count": null,
      "outputs": [
        {
          "output_type": "stream",
          "text": [
            "使用本地 /usr/local/lib/python3.6/dist-packages/pyhanlp/static/data/test/icwb2-data.zip, 忽略 http://sighan.cs.uchicago.edu/bakeoff2005/data/icwb2-data.zip\n"
          ],
          "name": "stdout"
        }
      ]
    },
    {
      "cell_type": "markdown",
      "metadata": {
        "id": "SVwJFFvZzjor"
      },
      "source": [
        "# 词性标注"
      ]
    },
    {
      "cell_type": "markdown",
      "metadata": {
        "id": "eVbThJlY12a8"
      },
      "source": [
        "## 基于隐马尔可夫模型的词性标注"
      ]
    },
    {
      "cell_type": "code",
      "metadata": {
        "colab": {
          "base_uri": "https://localhost:8080/"
        },
        "id": "ATrQzpeO15qX",
        "outputId": "54089c61-4902-4c91-b5fe-ca05ac553bf6"
      },
      "source": [
        "from  pyhanlp import *\r\n",
        "import zipfile\r\n",
        "import os\r\n",
        "from pyhanlp.static import download, remove_file, HANLP_DATA_PATH\r\n",
        "\r\n",
        "def test_data_path():\r\n",
        "    \"\"\"\r\n",
        "    获取测试数据路径，位于$root/data/test，根目录由配置文件指定。\r\n",
        "    :return:\r\n",
        "    \"\"\"\r\n",
        "    data_path = os.path.join(HANLP_DATA_PATH, 'test')\r\n",
        "    if not os.path.isdir(data_path):\r\n",
        "        os.mkdir(data_path)\r\n",
        "    return data_path\r\n",
        "\r\n",
        "\r\n",
        "\r\n",
        "## 验证是否存在 MSR语料库，如果没有自动下载\r\n",
        "def ensure_data(data_name, data_url):\r\n",
        "    root_path = test_data_path()\r\n",
        "    dest_path = os.path.join(root_path, data_name)\r\n",
        "    if os.path.exists(dest_path):\r\n",
        "        return dest_path\r\n",
        "    \r\n",
        "    if data_url.endswith('.zip'):\r\n",
        "        dest_path += '.zip'\r\n",
        "    download(data_url, dest_path)\r\n",
        "    if data_url.endswith('.zip'):\r\n",
        "        with zipfile.ZipFile(dest_path, \"r\") as archive:\r\n",
        "            archive.extractall(root_path)\r\n",
        "        remove_file(dest_path)\r\n",
        "        dest_path = dest_path[:-len('.zip')]\r\n",
        "    return dest_path\r\n",
        "\r\n",
        "\r\n",
        "## 指定 PKU 语料库\r\n",
        "PKU98 = ensure_data(\"pku98\", \"http://file.hankcs.com/corpus/pku98.zip\")\r\n",
        "PKU199801 = os.path.join(PKU98, '199801.txt')\r\n",
        "PKU199801_TRAIN = os.path.join(PKU98, '199801-train.txt')\r\n",
        "PKU199801_TEST = os.path.join(PKU98, '199801-test.txt')\r\n",
        "POS_MODEL = os.path.join(PKU98, 'pos.bin')\r\n",
        "NER_MODEL = os.path.join(PKU98, 'ner.bin')\r\n",
        "\r\n",
        "\r\n",
        "## ===============================================\r\n",
        "## 以下开始 HMM 词性标注\r\n",
        "\r\n",
        "\r\n",
        "\r\n",
        "HMMPOSTagger = JClass('com.hankcs.hanlp.model.hmm.HMMPOSTagger')\r\n",
        "AbstractLexicalAnalyzer = JClass('com.hankcs.hanlp.tokenizer.lexical.AbstractLexicalAnalyzer')\r\n",
        "PerceptronSegmenter = JClass('com.hankcs.hanlp.model.perceptron.PerceptronSegmenter')\r\n",
        "FirstOrderHiddenMarkovModel = JClass('com.hankcs.hanlp.model.hmm.FirstOrderHiddenMarkovModel')\r\n",
        "SecondOrderHiddenMarkovModel = JClass('com.hankcs.hanlp.model.hmm.SecondOrderHiddenMarkovModel')\r\n",
        "\r\n",
        "def train_hmm_pos(corpus, model):\r\n",
        "    tagger = HMMPOSTagger(model)  # 创建词性标注器\r\n",
        "    tagger.train(corpus)  # 训练\r\n",
        "    print(', '.join(tagger.tag(\"他\", \"的\", \"希望\", \"是\", \"希望\", \"上学\")))  # 预测\r\n",
        "    analyzer = AbstractLexicalAnalyzer(PerceptronSegmenter(), tagger)  # 构造词法分析器，与感知机分词器结合，能同时进行分词和词性标注。\r\n",
        "    print(analyzer.analyze(\"他的希望是希望上学\"))  # 分词+词性标注\r\n",
        "    print(analyzer.analyze(\"他的希望是希望上学\").translateLabels())  # 对词性进行翻译\r\n",
        "    print(analyzer.analyze(\"李狗蛋的希望是希望上学\").translateLabels())  # 对词性进行翻译\r\n",
        "    return tagger\r\n",
        "\r\n",
        "\r\n",
        "if __name__ == '__main__':\r\n",
        "    print('一阶隐马尔可夫模型:')\r\n",
        "    tagger1 = train_hmm_pos(PKU199801_TRAIN, FirstOrderHiddenMarkovModel())   # 一阶隐马\r\n",
        "    print('')\r\n",
        "    print('二阶隐马尔可夫模型:')\r\n",
        "    tagger = train_hmm_pos(PKU199801_TRAIN, SecondOrderHiddenMarkovModel())  # 二阶隐马"
      ],
      "execution_count": null,
      "outputs": [
        {
          "output_type": "stream",
          "text": [
            "下载 http://file.hankcs.com/corpus/pku98.zip 到 /usr/local/lib/python3.6/dist-packages/pyhanlp/static/data/test/pku98.zip\n",
            "100.00%, 5 MB, 3396 KB/s, 还有 0 分  0 秒   \n",
            "一阶隐马尔可夫模型:\n",
            "r, u, n, v, v, v\n",
            "他/r 的/u 希望/n 是/v 希望/v 上学/v\n",
            "他/代词 的/助词 希望/名词 是/动词 希望/动词 上学/动词\n",
            "李狗蛋/动词 的/动词 希望/动词 是/动词 希望/动词 上学/动词\n",
            "\n",
            "二阶隐马尔可夫模型:\n",
            "r, u, n, v, v, v\n",
            "他/r 的/u 希望/n 是/v 希望/v 上学/v\n",
            "他/代词 的/助词 希望/名词 是/动词 希望/动词 上学/动词\n",
            "李狗蛋/动词 的/动词 希望/动词 是/动词 希望/动词 上学/动词\n"
          ],
          "name": "stdout"
        }
      ]
    },
    {
      "cell_type": "markdown",
      "metadata": {
        "id": "AJldwDTi2YnS"
      },
      "source": [
        "## 基于感知机的词性标注"
      ]
    },
    {
      "cell_type": "code",
      "metadata": {
        "id": "JTEDukuw2doo"
      },
      "source": [
        "from  pyhanlp import *\r\n",
        "import zipfile\r\n",
        "import os\r\n",
        "from pyhanlp.static import download, remove_file, HANLP_DATA_PATH\r\n",
        "\r\n",
        "def test_data_path():\r\n",
        "    \"\"\"\r\n",
        "    获取测试数据路径，位于$root/data/test，根目录由配置文件指定。\r\n",
        "    :return:\r\n",
        "    \"\"\"\r\n",
        "    data_path = os.path.join(HANLP_DATA_PATH, 'test')\r\n",
        "    if not os.path.isdir(data_path):\r\n",
        "        os.mkdir(data_path)\r\n",
        "    return data_path\r\n",
        "\r\n",
        "\r\n",
        "\r\n",
        "## 验证是否存在 MSR语料库，如果没有自动下载\r\n",
        "def ensure_data(data_name, data_url):\r\n",
        "    root_path = test_data_path()\r\n",
        "    dest_path = os.path.join(root_path, data_name)\r\n",
        "    if os.path.exists(dest_path):\r\n",
        "        return dest_path\r\n",
        "    \r\n",
        "    if data_url.endswith('.zip'):\r\n",
        "        dest_path += '.zip'\r\n",
        "    download(data_url, dest_path)\r\n",
        "    if data_url.endswith('.zip'):\r\n",
        "        with zipfile.ZipFile(dest_path, \"r\") as archive:\r\n",
        "            archive.extractall(root_path)\r\n",
        "        remove_file(dest_path)\r\n",
        "        dest_path = dest_path[:-len('.zip')]\r\n",
        "    return dest_path\r\n",
        "\r\n",
        "\r\n",
        "## 指定 PKU 语料库\r\n",
        "PKU98 = ensure_data(\"pku98\", \"http://file.hankcs.com/corpus/pku98.zip\")\r\n",
        "PKU199801 = os.path.join(PKU98, '199801.txt')\r\n",
        "PKU199801_TRAIN = os.path.join(PKU98, '199801-train.txt')\r\n",
        "PKU199801_TEST = os.path.join(PKU98, '199801-test.txt')\r\n",
        "POS_MODEL = os.path.join(PKU98, 'pos.bin')\r\n",
        "NER_MODEL = os.path.join(PKU98, 'ner.bin')\r\n",
        "\r\n",
        "\r\n",
        "## ===============================================\r\n",
        "## 以下开始 感知机 词性标注\r\n",
        "\r\n",
        "\r\n",
        "\r\n",
        "AbstractLexicalAnalyzer = JClass('com.hankcs.hanlp.tokenizer.lexical.AbstractLexicalAnalyzer')\r\n",
        "PerceptronSegmenter = JClass('com.hankcs.hanlp.model.perceptron.PerceptronSegmenter')\r\n",
        "POSTrainer = JClass('com.hankcs.hanlp.model.perceptron.POSTrainer')\r\n",
        "PerceptronPOSTagger = JClass('com.hankcs.hanlp.model.perceptron.PerceptronPOSTagger')\r\n",
        "\r\n",
        "def train_perceptron_pos(corpus):\r\n",
        "    trainer = POSTrainer()\r\n",
        "    trainer.train(corpus, POS_MODEL)  # 训练感知机模型\r\n",
        "    tagger = PerceptronPOSTagger(POS_MODEL)  # 加载\r\n",
        "    analyzer = AbstractLexicalAnalyzer(PerceptronSegmenter(), tagger)  # 构造词法分析器，与感知机分词器结合，能同时进行分词和词性标注。\r\n",
        "    print(analyzer.analyze(\"李狗蛋的希望是希望上学\"))  # 分词+词性标注\r\n",
        "    print(analyzer.analyze(\"李狗蛋的希望是希望上学\").translateLabels())  # 对词性进行翻译\r\n",
        "    return tagger\r\n",
        "\r\n",
        "\r\n",
        "if __name__ == '__main__':\r\n",
        "    train_perceptron_pos(PKU199801_TRAIN)"
      ],
      "execution_count": null,
      "outputs": []
    },
    {
      "cell_type": "markdown",
      "metadata": {
        "id": "Zczi0EUG2lUJ"
      },
      "source": [
        "## 基于条件随机场的词性标注"
      ]
    },
    {
      "cell_type": "code",
      "metadata": {
        "id": "S_9zM9nk2nAa"
      },
      "source": [
        "from  pyhanlp import *\r\n",
        "import zipfile\r\n",
        "import os\r\n",
        "from pyhanlp.static import download, remove_file, HANLP_DATA_PATH\r\n",
        "\r\n",
        "def test_data_path():\r\n",
        "    \"\"\"\r\n",
        "    获取测试数据路径，位于$root/data/test，根目录由配置文件指定。\r\n",
        "    :return:\r\n",
        "    \"\"\"\r\n",
        "    data_path = os.path.join(HANLP_DATA_PATH, 'test')\r\n",
        "    if not os.path.isdir(data_path):\r\n",
        "        os.mkdir(data_path)\r\n",
        "    return data_path\r\n",
        "\r\n",
        "\r\n",
        "\r\n",
        "## 验证是否存在 MSR语料库，如果没有自动下载\r\n",
        "def ensure_data(data_name, data_url):\r\n",
        "    root_path = test_data_path()\r\n",
        "    dest_path = os.path.join(root_path, data_name)\r\n",
        "    if os.path.exists(dest_path):\r\n",
        "        return dest_path\r\n",
        "    \r\n",
        "    if data_url.endswith('.zip'):\r\n",
        "        dest_path += '.zip'\r\n",
        "    download(data_url, dest_path)\r\n",
        "    if data_url.endswith('.zip'):\r\n",
        "        with zipfile.ZipFile(dest_path, \"r\") as archive:\r\n",
        "            archive.extractall(root_path)\r\n",
        "        remove_file(dest_path)\r\n",
        "        dest_path = dest_path[:-len('.zip')]\r\n",
        "    return dest_path\r\n",
        "\r\n",
        "\r\n",
        "## 指定 PKU 语料库\r\n",
        "PKU98 = ensure_data(\"pku98\", \"http://file.hankcs.com/corpus/pku98.zip\")\r\n",
        "PKU199801 = os.path.join(PKU98, '199801.txt')\r\n",
        "PKU199801_TRAIN = os.path.join(PKU98, '199801-train.txt')\r\n",
        "PKU199801_TEST = os.path.join(PKU98, '199801-test.txt')\r\n",
        "POS_MODEL = os.path.join(PKU98, 'pos.bin')\r\n",
        "NER_MODEL = os.path.join(PKU98, 'ner.bin')\r\n",
        "\r\n",
        "\r\n",
        "## ===============================================\r\n",
        "## 以下开始 CRF 词性标注\r\n",
        "\r\n",
        "AbstractLexicalAnalyzer = JClass('com.hankcs.hanlp.tokenizer.lexical.AbstractLexicalAnalyzer')\r\n",
        "PerceptronSegmenter = JClass('com.hankcs.hanlp.model.perceptron.PerceptronSegmenter')\r\n",
        "CRFPOSTagger = JClass('com.hankcs.hanlp.model.crf.CRFPOSTagger')\r\n",
        "\r\n",
        "\r\n",
        "\r\n",
        "def train_crf_pos(corpus):\r\n",
        "    # 选项1.使用HanLP的Java API训练，慢\r\n",
        "    tagger = CRFPOSTagger(None)  # 创建空白标注器\r\n",
        "    tagger.train(corpus, POS_MODEL)  # 训练\r\n",
        "    tagger = CRFPOSTagger(POS_MODEL) # 加载\r\n",
        "    # 选项2.使用CRF++训练，HanLP加载。（训练命令由选项1给出）\r\n",
        "    # tagger = CRFPOSTagger(POS_MODEL + \".txt\")\r\n",
        "    analyzer = AbstractLexicalAnalyzer(PerceptronSegmenter(), tagger)  # 构造词法分析器，与感知机分词器结合，能同时进行分词和词性标注。\r\n",
        "    print(analyzer.analyze(\"李狗蛋的希望是希望上学\"))  # 分词+词性标注\r\n",
        "    print(analyzer.analyze(\"李狗蛋的希望是希望上学\").translateLabels())  # 对词性进行翻译\r\n",
        "    return tagger\r\n",
        "\r\n",
        "\r\n",
        "if __name__ == '__main__':\r\n",
        "    tagger = train_crf_pos(PKU199801_TRAIN)"
      ],
      "execution_count": null,
      "outputs": []
    },
    {
      "cell_type": "markdown",
      "metadata": {
        "id": "wWgLhlXw3G3b"
      },
      "source": [
        "##自定义词性"
      ]
    },
    {
      "cell_type": "code",
      "metadata": {
        "colab": {
          "base_uri": "https://localhost:8080/"
        },
        "id": "xugljmYb3I6M",
        "outputId": "a756e40f-561d-4d02-bbaa-6e25e504f255"
      },
      "source": [
        "from pyhanlp import *\r\n",
        "\r\n",
        "CustomDictionary.insert(\"苹果\", \"手机品牌 1\")\r\n",
        "CustomDictionary.insert(\"iPhone X\", \"手机型号 1\")\r\n",
        "analyzer = PerceptronLexicalAnalyzer()\r\n",
        "analyzer.enableCustomDictionaryForcing(True)\r\n",
        "print(analyzer.analyze(\"你们苹果iPhone X保修吗？\"))\r\n",
        "print(analyzer.analyze(\"多吃苹果有益健康\"))"
      ],
      "execution_count": null,
      "outputs": [
        {
          "output_type": "stream",
          "text": [
            "你们/r 苹果/手机品牌 iPhone X/手机型号 保修/v 吗/y ？/w\n",
            "多/d 吃/v 苹果/手机品牌 有益健康/i\n"
          ],
          "name": "stdout"
        }
      ]
    },
    {
      "cell_type": "markdown",
      "metadata": {
        "id": "E1mlTuARP8lZ"
      },
      "source": [
        "# 命名实体识别"
      ]
    },
    {
      "cell_type": "markdown",
      "metadata": {
        "id": "MN01MvPzQAKd"
      },
      "source": [
        "## 基于隐马尔可夫模型序列标注的命名实体识别"
      ]
    },
    {
      "cell_type": "code",
      "metadata": {
        "colab": {
          "base_uri": "https://localhost:8080/"
        },
        "id": "zbWb8CGMQF2H",
        "outputId": "c8902354-c32c-402d-d518-33f03985d67c"
      },
      "source": [
        "import os\r\n",
        "!pip install pyhanlp\r\n",
        "path = '/content/drive/MyDrive/Colab Notebooks/NLPTest'\r\n",
        "os.chdir(path)\r\n",
        "os.listdir(path)\r\n",
        "from  pyhanlp import *\r\n",
        "import zipfile\r\n",
        "import os\r\n",
        "from pyhanlp.static import download, remove_file, HANLP_DATA_PATH\r\n",
        "\r\n",
        "def test_data_path():\r\n",
        "    \"\"\"\r\n",
        "    获取测试数据路径，位于$root/data/test，根目录由配置文件指定。\r\n",
        "    :return:\r\n",
        "    \"\"\"\r\n",
        "    data_path = os.path.join(HANLP_DATA_PATH, 'test')\r\n",
        "    if not os.path.isdir(data_path):\r\n",
        "        os.mkdir(data_path)\r\n",
        "    return data_path\r\n",
        "\r\n",
        "\r\n",
        "\r\n",
        "## 验证是否存在 MSR语料库，如果没有自动下载\r\n",
        "def ensure_data(data_name, data_url):\r\n",
        "    root_path = test_data_path()\r\n",
        "    dest_path = os.path.join(root_path, data_name)\r\n",
        "    if os.path.exists(dest_path):\r\n",
        "        return dest_path\r\n",
        "    \r\n",
        "    if data_url.endswith('.zip'):\r\n",
        "        dest_path += '.zip'\r\n",
        "    download(data_url, dest_path)\r\n",
        "    if data_url.endswith('.zip'):\r\n",
        "        with zipfile.ZipFile(dest_path, \"r\") as archive:\r\n",
        "            archive.extractall(root_path)\r\n",
        "        remove_file(dest_path)\r\n",
        "        dest_path = dest_path[:-len('.zip')]\r\n",
        "    return dest_path\r\n",
        "\r\n",
        "\r\n",
        "## 指定 PKU 语料库\r\n",
        "PKU98 = ensure_data(\"pku98\", \"http://file.hankcs.com/corpus/pku98.zip\")\r\n",
        "PKU199801 = os.path.join(PKU98, '199801.txt')\r\n",
        "PKU199801_TRAIN = os.path.join(PKU98, '199801-train.txt')\r\n",
        "PKU199801_TEST = os.path.join(PKU98, '199801-test.txt')\r\n",
        "POS_MODEL = os.path.join(PKU98, 'pos.bin')\r\n",
        "NER_MODEL = os.path.join(PKU98, 'ner.bin')\r\n",
        "\r\n",
        "\r\n",
        "## ===============================================\r\n",
        "## 以下开始 HMM 命名实体识别\r\n",
        "\r\n",
        "HMMNERecognizer = JClass('com.hankcs.hanlp.model.hmm.HMMNERecognizer')\r\n",
        "AbstractLexicalAnalyzer = JClass('com.hankcs.hanlp.tokenizer.lexical.AbstractLexicalAnalyzer')\r\n",
        "PerceptronSegmenter = JClass('com.hankcs.hanlp.model.perceptron.PerceptronSegmenter')\r\n",
        "PerceptronPOSTagger = JClass('com.hankcs.hanlp.model.perceptron.PerceptronPOSTagger')\r\n",
        "Utility = JClass('com.hankcs.hanlp.model.perceptron.utility.Utility')\r\n",
        "\r\n",
        "\r\n",
        "\r\n",
        "def train(corpus):\r\n",
        "    recognizer = HMMNERecognizer()\r\n",
        "    recognizer.train(corpus)  # data/test/pku98/199801-train.txt\r\n",
        "    return recognizer\r\n",
        "\r\n",
        "\r\n",
        "def test(recognizer):\r\n",
        "    # 包装了感知机分词器和词性标注器的词法分析器\r\n",
        "    analyzer = AbstractLexicalAnalyzer(PerceptronSegmenter(), PerceptronPOSTagger(), recognizer)\r\n",
        "    print(analyzer.analyze(\"华北电力公司董事长谭旭光和秘书胡花蕊来到美国纽约现代艺术博物馆参观\"))\r\n",
        "    scores = Utility.evaluateNER(recognizer, PKU199801_TEST)\r\n",
        "    Utility.printNERScore(scores)\r\n",
        "\r\n",
        "\r\n",
        "if __name__ == '__main__':\r\n",
        "    recognizer = train(PKU199801_TRAIN)\r\n",
        "    test(recognizer)\r\n"
      ],
      "execution_count": null,
      "outputs": [
        {
          "output_type": "stream",
          "text": [
            "Collecting pyhanlp\n",
            "\u001b[?25l  Downloading https://files.pythonhosted.org/packages/9a/f1/38c5012dbe652fbd7d701fdf77682c6de0a4527aa4dd5ec20d191b077768/pyhanlp-0.1.67.tar.gz (87kB)\n",
            "\u001b[K     |████████████████████████████████| 92kB 5.4MB/s \n",
            "\u001b[?25hCollecting jpype1==0.7.0\n",
            "\u001b[?25l  Downloading https://files.pythonhosted.org/packages/07/09/e19ce27d41d4f66d73ac5b6c6a188c51b506f56c7bfbe6c1491db2d15995/JPype1-0.7.0-cp36-cp36m-manylinux2010_x86_64.whl (2.7MB)\n",
            "\u001b[K     |████████████████████████████████| 2.7MB 10.7MB/s \n",
            "\u001b[?25hBuilding wheels for collected packages: pyhanlp\n",
            "  Building wheel for pyhanlp (setup.py) ... \u001b[?25l\u001b[?25hdone\n",
            "  Created wheel for pyhanlp: filename=pyhanlp-0.1.67-py2.py3-none-any.whl size=30031 sha256=6eaeaf4f8ff88808cd703f4f3bae8f6735175037f9dfc71ae26717702a5116d3\n",
            "  Stored in directory: /root/.cache/pip/wheels/1f/82/e7/8a16944621d845eddf8277fa14a0194941f5bbad86ddce7cd1\n",
            "Successfully built pyhanlp\n",
            "Installing collected packages: jpype1, pyhanlp\n",
            "Successfully installed jpype1-0.7.0 pyhanlp-0.1.67\n",
            "下载 https://file.hankcs.com/hanlp/hanlp-1.8.0-release.zip 到 /usr/local/lib/python3.6/dist-packages/pyhanlp/static/hanlp-1.8.0-release.zip\n",
            "100.00%, 1 MB, 593 KB/s, 还有 0 分  0 秒   \n",
            "下载 https://file.hankcs.com/hanlp/data-for-1.7.5.zip 到 /usr/local/lib/python3.6/dist-packages/pyhanlp/static/data-for-1.8.0.zip\n",
            "95.59%, 609 MB, 7714 KB/s, 还有 0 分  3 秒   下载 http://file.hankcs.com/corpus/pku98.zip 到 /usr/local/lib/python3.6/dist-packages/pyhanlp/static/data/test/pku98.zip\n",
            "100.00%, 5 MB, 2661 KB/s, 还有 0 分  0 秒   \n",
            "华北电力公司/nt 董事长/n 谭旭光/nr 和/c 秘书/n 胡花蕊/nr 来到/v 美国纽约/ns 现代/ntc 艺术/n 博物馆/n 参观/v\n"
          ],
          "name": "stdout"
        }
      ]
    },
    {
      "cell_type": "markdown",
      "metadata": {
        "id": "ZTH72egMQhGt"
      },
      "source": [
        "## 基于感知机序列标注的命名实体识别"
      ]
    },
    {
      "cell_type": "code",
      "metadata": {
        "id": "6cd9rKovQtOD",
        "colab": {
          "base_uri": "https://localhost:8080/"
        },
        "outputId": "1b346d52-5b6c-4121-8b8b-48eff927e978"
      },
      "source": [
        "!pip install pyhanlp\r\n",
        "from  pyhanlp import *\r\n",
        "import zipfile\r\n",
        "import os\r\n",
        "from pyhanlp.static import download, remove_file, HANLP_DATA_PATH\r\n",
        "\r\n",
        "def test_data_path():\r\n",
        "    \"\"\"\r\n",
        "    获取测试数据路径，位于$root/data/test，根目录由配置文件指定。\r\n",
        "    :return:\r\n",
        "    \"\"\"\r\n",
        "    data_path = os.path.join(HANLP_DATA_PATH, 'test')\r\n",
        "    if not os.path.isdir(data_path):\r\n",
        "        os.mkdir(data_path)\r\n",
        "    return data_path\r\n",
        "\r\n",
        "\r\n",
        "\r\n",
        "## 验证是否存在 MSR语料库，如果没有自动下载\r\n",
        "def ensure_data(data_name, data_url):\r\n",
        "    root_path = test_data_path()\r\n",
        "    dest_path = os.path.join(root_path, data_name)\r\n",
        "    if os.path.exists(dest_path):\r\n",
        "        return dest_path\r\n",
        "    \r\n",
        "    if data_url.endswith('.zip'):\r\n",
        "        dest_path += '.zip'\r\n",
        "    download(data_url, dest_path)\r\n",
        "    if data_url.endswith('.zip'):\r\n",
        "        with zipfile.ZipFile(dest_path, \"r\") as archive:\r\n",
        "            archive.extractall(root_path)\r\n",
        "        remove_file(dest_path)\r\n",
        "        dest_path = dest_path[:-len('.zip')]\r\n",
        "    return dest_path\r\n",
        "\r\n",
        "\r\n",
        "## 指定 PKU 语料库\r\n",
        "PKU98 = ensure_data(\"pku98\", \"http://file.hankcs.com/corpus/pku98.zip\")\r\n",
        "PKU199801 = os.path.join(PKU98, '199801.txt')\r\n",
        "PKU199801_TRAIN = os.path.join(PKU98, '199801-train.txt')\r\n",
        "PKU199801_TEST = os.path.join(PKU98, '199801-test.txt')\r\n",
        "POS_MODEL = os.path.join(PKU98, 'pos.bin')\r\n",
        "NER_MODEL = os.path.join(PKU98, 'ner.bin')\r\n",
        "\r\n",
        "\r\n",
        "## ===============================================\r\n",
        "## 以下开始 感知机 命名实体识别\r\n",
        "\r\n",
        "NERTrainer = JClass('com.hankcs.hanlp.model.perceptron.NERTrainer')\r\n",
        "PerceptronNERecognizer = JClass('com.hankcs.hanlp.model.perceptron.PerceptronNERecognizer')\r\n",
        "PerceptronSegmenter = JClass('com.hankcs.hanlp.model.perceptron.PerceptronSegmenter')\r\n",
        "PerceptronPOSTagger = JClass('com.hankcs.hanlp.model.perceptron.PerceptronPOSTagger')\r\n",
        "Sentence = JClass('com.hankcs.hanlp.corpus.document.sentence.Sentence')\r\n",
        "AbstractLexicalAnalyzer = JClass('com.hankcs.hanlp.tokenizer.lexical.AbstractLexicalAnalyzer')\r\n",
        "Utility = JClass('com.hankcs.hanlp.model.perceptron.utility.Utility')\r\n",
        "\r\n",
        "\r\n",
        "\r\n",
        "def train(corpus, model):\r\n",
        "    trainer = NERTrainer()\r\n",
        "    return PerceptronNERecognizer(trainer.train(corpus, model).getModel())\r\n",
        "\r\n",
        "\r\n",
        "def test(recognizer):\r\n",
        "    # 包装了感知机分词器和词性标注器的词法分析器\r\n",
        "    analyzer = AbstractLexicalAnalyzer(PerceptronSegmenter(), PerceptronPOSTagger(), recognizer)\r\n",
        "    print(analyzer.analyze(\"华北电力公司董事长谭旭光和秘书胡花蕊来到美国纽约现代艺术博物馆参观\"))\r\n",
        "    scores = Utility.evaluateNER(recognizer, PKU199801_TEST)\r\n",
        "    Utility.printNERScore(scores)\r\n",
        "\r\n",
        "\r\n",
        "if __name__ == '__main__':\r\n",
        "    recognizer = train(PKU199801_TRAIN, NER_MODEL)\r\n",
        "    test(recognizer)\r\n",
        "    \r\n",
        "    ## 支持在线学习\r\n",
        "    # 创建了感知机词法分析器\r\n",
        "    analyzer = PerceptronLexicalAnalyzer(PerceptronSegmenter(), PerceptronPOSTagger(), recognizer)  # ①\r\n",
        "    # 根据标注样本的字符串形式创建等价的 Sentence对象\r\n",
        "    sentence = Sentence.create(\"与/c 特朗普/nr 通/v 电话/n 讨论/v [太空/s 探索/vn 技术/n 公司/n]/nt\")  # ②\r\n",
        "    # 测试词法分析器对样本的分析结果是否与标注一致，若不一致重复在线学习，直到两者一致。\r\n",
        "    while not analyzer.analyze(sentence.text()).equals(sentence):  # ③\r\n",
        "        analyzer.learn(sentence)"
      ],
      "execution_count": null,
      "outputs": [
        {
          "output_type": "stream",
          "text": [
            "Collecting pyhanlp\n",
            "\u001b[?25l  Downloading https://files.pythonhosted.org/packages/9a/f1/38c5012dbe652fbd7d701fdf77682c6de0a4527aa4dd5ec20d191b077768/pyhanlp-0.1.67.tar.gz (87kB)\n",
            "\u001b[K     |████████████████████████████████| 92kB 5.8MB/s \n",
            "\u001b[?25hCollecting jpype1==0.7.0\n",
            "\u001b[?25l  Downloading https://files.pythonhosted.org/packages/07/09/e19ce27d41d4f66d73ac5b6c6a188c51b506f56c7bfbe6c1491db2d15995/JPype1-0.7.0-cp36-cp36m-manylinux2010_x86_64.whl (2.7MB)\n",
            "\u001b[K     |████████████████████████████████| 2.7MB 13.9MB/s \n",
            "\u001b[?25hBuilding wheels for collected packages: pyhanlp\n",
            "  Building wheel for pyhanlp (setup.py) ... \u001b[?25l\u001b[?25hdone\n",
            "  Created wheel for pyhanlp: filename=pyhanlp-0.1.67-py2.py3-none-any.whl size=30031 sha256=9ec2d072034500e4f9bbf9ea049677401235593c82b111d4301322fd0ad975fe\n",
            "  Stored in directory: /root/.cache/pip/wheels/1f/82/e7/8a16944621d845eddf8277fa14a0194941f5bbad86ddce7cd1\n",
            "Successfully built pyhanlp\n",
            "Installing collected packages: jpype1, pyhanlp\n",
            "Successfully installed jpype1-0.7.0 pyhanlp-0.1.67\n",
            "下载 https://file.hankcs.com/hanlp/hanlp-1.8.0-release.zip 到 /usr/local/lib/python3.6/dist-packages/pyhanlp/static/hanlp-1.8.0-release.zip\n",
            "100.00%, 1 MB, 646 KB/s, 还有 0 分  0 秒   \n",
            "下载 https://file.hankcs.com/hanlp/data-for-1.7.5.zip 到 /usr/local/lib/python3.6/dist-packages/pyhanlp/static/data-for-1.8.0.zip\n",
            "87.83%, 560 MB, 6963 KB/s, 还有 0 分 11 秒   "
          ],
          "name": "stdout"
        },
        {
          "output_type": "stream",
          "text": [
            "IOPub message rate exceeded.\n",
            "The notebook server will temporarily stop sending output\n",
            "to the client in order to avoid crashing it.\n",
            "To change this limit, set the config variable\n",
            "`--NotebookApp.iopub_msg_rate_limit`.\n",
            "\n",
            "Current values:\n",
            "NotebookApp.iopub_msg_rate_limit=1000.0 (msgs/sec)\n",
            "NotebookApp.rate_limit_window=3.0 (secs)\n",
            "\n"
          ],
          "name": "stderr"
        },
        {
          "output_type": "stream",
          "text": [
            "100.00%, 637 MB, 6998 KB/s, 还有 0 分  0 秒   \n",
            "解压 data.zip...\n",
            "下载 http://file.hankcs.com/corpus/pku98.zip 到 /usr/local/lib/python3.6/dist-packages/pyhanlp/static/data/test/pku98.zip\n",
            "100.00%, 5 MB, 3767 KB/s, 还有 0 分  0 秒   \n",
            "华北电力公司/nt 董事长/n 谭旭光/nr 和/c 秘书/n 胡花蕊/nr 来到/v [美国纽约/ns 现代/ntc 艺术/n 博物馆/n]/ns 参观/v\n"
          ],
          "name": "stdout"
        }
      ]
    },
    {
      "cell_type": "markdown",
      "metadata": {
        "id": "cLDXYPwdQ2er"
      },
      "source": [
        "## 基于条件随机场序列标注的命名实体识别"
      ]
    },
    {
      "cell_type": "code",
      "metadata": {
        "id": "fti7znGfQ5_O",
        "colab": {
          "base_uri": "https://localhost:8080/",
          "height": 370
        },
        "outputId": "6a6922fa-4a54-4fef-8295-9ffec9fa22fe"
      },
      "source": [
        "!pip install pyhanlp\r\n",
        "from  pyhanlp import *\r\n",
        "import zipfile\r\n",
        "import os\r\n",
        "from pyhanlp.static import download, remove_file, HANLP_DATA_PATH\r\n",
        "\r\n",
        "def test_data_path():\r\n",
        "    \"\"\"\r\n",
        "    获取测试数据路径，位于$root/data/test，根目录由配置文件指定。\r\n",
        "    :return:\r\n",
        "    \"\"\"\r\n",
        "    data_path = os.path.join(HANLP_DATA_PATH, 'test')\r\n",
        "    if not os.path.isdir(data_path):\r\n",
        "        os.mkdir(data_path)\r\n",
        "    return data_path\r\n",
        "\r\n",
        "\r\n",
        "\r\n",
        "## 验证是否存在 MSR语料库，如果没有自动下载\r\n",
        "def ensure_data(data_name, data_url):\r\n",
        "    root_path = test_data_path()\r\n",
        "    dest_path = os.path.join(root_path, data_name)\r\n",
        "    if os.path.exists(dest_path):\r\n",
        "        return dest_path\r\n",
        "    \r\n",
        "    if data_url.endswith('.zip'):\r\n",
        "        dest_path += '.zip'\r\n",
        "    download(data_url, dest_path)\r\n",
        "    if data_url.endswith('.zip'):\r\n",
        "        with zipfile.ZipFile(dest_path, \"r\") as archive:\r\n",
        "            archive.extractall(root_path)\r\n",
        "        remove_file(dest_path)\r\n",
        "        dest_path = dest_path[:-len('.zip')]\r\n",
        "    return dest_path\r\n",
        "\r\n",
        "\r\n",
        "## 指定 PKU 语料库\r\n",
        "PKU98 = ensure_data(\"pku98\", \"http://file.hankcs.com/corpus/pku98.zip\")\r\n",
        "PKU199801 = os.path.join(PKU98, '199801.txt')\r\n",
        "PKU199801_TRAIN = os.path.join(PKU98, '199801-train.txt')\r\n",
        "PKU199801_TEST = os.path.join(PKU98, '199801-test.txt')\r\n",
        "POS_MODEL = os.path.join(PKU98, 'pos.bin')\r\n",
        "NER_MODEL = os.path.join(PKU98, 'ner.bin')\r\n",
        "\r\n",
        "\r\n",
        "## ===============================================\r\n",
        "## 以下开始 CRF 命名实体识别\r\n",
        "\r\n",
        "CRFNERecognizer = JClass('com.hankcs.hanlp.model.crf.CRFNERecognizer')\r\n",
        "AbstractLexicalAnalyzer = JClass('com.hankcs.hanlp.tokenizer.lexical.AbstractLexicalAnalyzer')\r\n",
        "Utility = JClass('com.hankcs.hanlp.model.perceptron.utility.Utility')\r\n",
        "\r\n",
        "\r\n",
        "\r\n",
        "def train(corpus, model):\r\n",
        "    # 零参数的构造函数代表加载配置文件默认的模型，必须用null None 与之区分。\r\n",
        "    recognizer = CRFNERecognizer(None)  # 空白\r\n",
        "    recognizer.train(corpus, model)\r\n",
        "    return recognizer\r\n",
        "\r\n",
        "\r\n",
        "def test(recognizer):\r\n",
        "    analyzer = AbstractLexicalAnalyzer(PerceptronSegmenter(), PerceptronPOSTagger(), recognizer)\r\n",
        "    print(analyzer.analyze(\"华北电力公司董事长谭旭光和秘书胡花蕊来到美国纽约现代艺术博物馆参观\"))\r\n",
        "    scores = Utility.evaluateNER(recognizer, PKU199801_TEST)\r\n",
        "    Utility.printNERScore(scores)\r\n",
        "\r\n",
        "\r\n",
        "if __name__ == '__main__':\r\n",
        "    recognizer = train(PKU199801_TRAIN, NER_MODEL)\r\n",
        "    test(recognizer)\r\n"
      ],
      "execution_count": null,
      "outputs": [
        {
          "output_type": "stream",
          "text": [
            "Requirement already satisfied: pyhanlp in /usr/local/lib/python3.6/dist-packages (0.1.67)\n",
            "Requirement already satisfied: jpype1==0.7.0 in /usr/local/lib/python3.6/dist-packages (from pyhanlp) (0.7.0)\n"
          ],
          "name": "stdout"
        },
        {
          "output_type": "error",
          "ename": "NameError",
          "evalue": "ignored",
          "traceback": [
            "\u001b[0;31m---------------------------------------------------------------------------\u001b[0m",
            "\u001b[0;31mNameError\u001b[0m                                 Traceback (most recent call last)",
            "\u001b[0;32m<ipython-input-1-48da1869233e>\u001b[0m in \u001b[0;36m<module>\u001b[0;34m()\u001b[0m\n\u001b[1;32m     69\u001b[0m \u001b[0;32mif\u001b[0m \u001b[0m__name__\u001b[0m \u001b[0;34m==\u001b[0m \u001b[0;34m'__main__'\u001b[0m\u001b[0;34m:\u001b[0m\u001b[0;34m\u001b[0m\u001b[0;34m\u001b[0m\u001b[0m\n\u001b[1;32m     70\u001b[0m     \u001b[0mrecognizer\u001b[0m \u001b[0;34m=\u001b[0m \u001b[0mtrain\u001b[0m\u001b[0;34m(\u001b[0m\u001b[0mPKU199801_TRAIN\u001b[0m\u001b[0;34m,\u001b[0m \u001b[0mNER_MODEL\u001b[0m\u001b[0;34m)\u001b[0m\u001b[0;34m\u001b[0m\u001b[0;34m\u001b[0m\u001b[0m\n\u001b[0;32m---> 71\u001b[0;31m     \u001b[0mtest\u001b[0m\u001b[0;34m(\u001b[0m\u001b[0mrecognizer\u001b[0m\u001b[0;34m)\u001b[0m\u001b[0;34m\u001b[0m\u001b[0;34m\u001b[0m\u001b[0m\n\u001b[0m",
            "\u001b[0;32m<ipython-input-1-48da1869233e>\u001b[0m in \u001b[0;36mtest\u001b[0;34m(recognizer)\u001b[0m\n\u001b[1;32m     61\u001b[0m \u001b[0;34m\u001b[0m\u001b[0m\n\u001b[1;32m     62\u001b[0m \u001b[0;32mdef\u001b[0m \u001b[0mtest\u001b[0m\u001b[0;34m(\u001b[0m\u001b[0mrecognizer\u001b[0m\u001b[0;34m)\u001b[0m\u001b[0;34m:\u001b[0m\u001b[0;34m\u001b[0m\u001b[0;34m\u001b[0m\u001b[0m\n\u001b[0;32m---> 63\u001b[0;31m     \u001b[0manalyzer\u001b[0m \u001b[0;34m=\u001b[0m \u001b[0mAbstractLexicalAnalyzer\u001b[0m\u001b[0;34m(\u001b[0m\u001b[0mPerceptronSegmenter\u001b[0m\u001b[0;34m(\u001b[0m\u001b[0;34m)\u001b[0m\u001b[0;34m,\u001b[0m \u001b[0mPerceptronPOSTagger\u001b[0m\u001b[0;34m(\u001b[0m\u001b[0;34m)\u001b[0m\u001b[0;34m,\u001b[0m \u001b[0mrecognizer\u001b[0m\u001b[0;34m)\u001b[0m\u001b[0;34m\u001b[0m\u001b[0;34m\u001b[0m\u001b[0m\n\u001b[0m\u001b[1;32m     64\u001b[0m     \u001b[0mprint\u001b[0m\u001b[0;34m(\u001b[0m\u001b[0manalyzer\u001b[0m\u001b[0;34m.\u001b[0m\u001b[0manalyze\u001b[0m\u001b[0;34m(\u001b[0m\u001b[0;34m\"华北电力公司董事长谭旭光和秘书胡花蕊来到美国纽约现代艺术博物馆参观\"\u001b[0m\u001b[0;34m)\u001b[0m\u001b[0;34m)\u001b[0m\u001b[0;34m\u001b[0m\u001b[0;34m\u001b[0m\u001b[0m\n\u001b[1;32m     65\u001b[0m     \u001b[0mscores\u001b[0m \u001b[0;34m=\u001b[0m \u001b[0mUtility\u001b[0m\u001b[0;34m.\u001b[0m\u001b[0mevaluateNER\u001b[0m\u001b[0;34m(\u001b[0m\u001b[0mrecognizer\u001b[0m\u001b[0;34m,\u001b[0m \u001b[0mPKU199801_TEST\u001b[0m\u001b[0;34m)\u001b[0m\u001b[0;34m\u001b[0m\u001b[0;34m\u001b[0m\u001b[0m\n",
            "\u001b[0;31mNameError\u001b[0m: name 'PerceptronSegmenter' is not defined"
          ]
        }
      ]
    },
    {
      "cell_type": "markdown",
      "metadata": {
        "id": "L7Wcng1dREMV"
      },
      "source": [
        "## 自定义领域命名实体识别"
      ]
    },
    {
      "cell_type": "markdown",
      "metadata": {
        "id": "-zWVJebdULPf"
      },
      "source": [
        "# 信息抽取"
      ]
    },
    {
      "cell_type": "markdown",
      "metadata": {
        "id": "toWbviVdUZ6L"
      },
      "source": [
        "## 提取四大名著100个高频词"
      ]
    },
    {
      "cell_type": "code",
      "metadata": {
        "colab": {
          "base_uri": "https://localhost:8080/"
        },
        "id": "aD1VQ2sHTkgt",
        "outputId": "6e1fd46d-41ba-46be-897b-4955414fcb21"
      },
      "source": [
        "from pyhanlp import *\r\n",
        "\r\n",
        "\r\n",
        "\r\n",
        "import zipfile\r\n",
        "import os\r\n",
        "from pyhanlp.static import download, remove_file, HANLP_DATA_PATH\r\n",
        "\r\n",
        "def test_data_path():\r\n",
        "    \"\"\"\r\n",
        "    获取测试数据路径，位于$root/data/test，根目录由配置文件指定。\r\n",
        "    :return:\r\n",
        "    \"\"\"\r\n",
        "    data_path = os.path.join(HANLP_DATA_PATH, 'test')\r\n",
        "    if not os.path.isdir(data_path):\r\n",
        "        os.mkdir(data_path)\r\n",
        "    return data_path\r\n",
        "\r\n",
        "\r\n",
        "\r\n",
        "## 验证是否存在 MSR语料库，如果没有自动下载\r\n",
        "def ensure_data(data_name, data_url):\r\n",
        "    root_path = test_data_path()\r\n",
        "    dest_path = os.path.join(root_path, data_name)\r\n",
        "    if os.path.exists(dest_path):\r\n",
        "        return dest_path\r\n",
        "    \r\n",
        "    if data_url.endswith('.zip'):\r\n",
        "        dest_path += '.zip'\r\n",
        "    download(data_url, dest_path)\r\n",
        "    if data_url.endswith('.zip'):\r\n",
        "        with zipfile.ZipFile(dest_path, \"r\") as archive:\r\n",
        "            archive.extractall(root_path)\r\n",
        "        remove_file(dest_path)\r\n",
        "        dest_path = dest_path[:-len('.zip')]\r\n",
        "    return dest_path\r\n",
        "\r\n",
        "\r\n",
        "\r\n",
        "\r\n",
        "HLM_PATH = ensure_data(\"红楼梦.txt\", \"http://file.hankcs.com/corpus/红楼梦.zip\")\r\n",
        "XYJ_PATH = ensure_data(\"西游记.txt\", \"http://file.hankcs.com/corpus/西游记.zip\")\r\n",
        "SHZ_PATH = ensure_data(\"水浒传.txt\", \"http://file.hankcs.com/corpus/水浒传.zip\")\r\n",
        "SAN_PATH = ensure_data(\"三国演义.txt\", \"http://file.hankcs.com/corpus/三国演义.zip\")\r\n",
        "WEIBO_PATH = ensure_data(\"weibo-classification\", \"http://file.hankcs.com/corpus/weibo-classification.zip\")\r\n",
        "\r\n",
        "\r\n",
        "def test_weibo():\r\n",
        "    for folder in os.listdir(WEIBO_PATH):\r\n",
        "        print(folder)\r\n",
        "        big_text = \"\"\r\n",
        "        for file in os.listdir(os.path.join(WEIBO_PATH, folder)):\r\n",
        "            with open(os.path.join(WEIBO_PATH, folder, file)) as src:\r\n",
        "                big_text += \"\".join(src.readlines())\r\n",
        "        word_info_list = HanLP.extractWords(big_text, 100)\r\n",
        "        print(word_info_list)\r\n",
        "\r\n",
        "\r\n",
        "def extract(corpus):\r\n",
        "    print(\"%s 热词\" % corpus)\r\n",
        "    \r\n",
        "    ## 参数如下\r\n",
        "    # reader: 文本数据源\r\n",
        "    # size: 控制返回多少个词\r\n",
        "    # newWordsOnly: 为真时，程序将使用内部词库过滤掉“旧词”。\r\n",
        "    # max_word_len: 控制识别结果中最长的词语长度\r\n",
        "    # min_freq: 控制结果中词语的最低频率\r\n",
        "    # min_entropy: 控制结果中词语的最低信息熵的值，一般取 0.5 左右,值越大，越短的词语就越容易提取\r\n",
        "    # min_aggregation: 控制结果中词语的最低互信息值，一般取 50 到 200.值越大，越长的词语越容易提取\r\n",
        "    word_info_list = HanLP.extractWords(IOUtil.newBufferedReader(corpus), 100)\r\n",
        "    print(word_info_list)\r\n",
        "    # print(\"%s 新词\" % corpus)\r\n",
        "    # word_info_list = HanLP.extractWords(IOUtil.newBufferedReader(corpus), 100, True)\r\n",
        "    # print(word_info_list)\r\n",
        "\r\n",
        "\r\n",
        "if __name__ == '__main__':\r\n",
        "    extract(HLM_PATH)\r\n",
        "    extract(XYJ_PATH)\r\n",
        "    extract(SHZ_PATH)\r\n",
        "    extract(SAN_PATH)\r\n",
        "    test_weibo()\r\n",
        "\r\n",
        "    # 更多参数\r\n",
        "    word_info_list = HanLP.extractWords(IOUtil.newBufferedReader(HLM_PATH), 100, True, 4, 0.0, .5, 100)\r\n",
        "    print(word_info_list)"
      ],
      "execution_count": null,
      "outputs": [
        {
          "output_type": "stream",
          "text": [
            "下载 http://file.hankcs.com/corpus/红楼梦.zip 到 /usr/local/lib/python3.6/dist-packages/pyhanlp/static/data/test/红楼梦.txt.zip\n",
            "100.00%, 1 MB, 986 KB/s, 还有 0 分  0 秒   \n",
            "下载 http://file.hankcs.com/corpus/西游记.zip 到 /usr/local/lib/python3.6/dist-packages/pyhanlp/static/data/test/西游记.txt.zip\n",
            "100.00%, 0 MB, 1280 KB/s, 还有 0 分  0 秒   \n",
            "下载 http://file.hankcs.com/corpus/水浒传.zip 到 /usr/local/lib/python3.6/dist-packages/pyhanlp/static/data/test/水浒传.txt.zip\n",
            "100.00%, 0 MB, 1207 KB/s, 还有 0 分  0 秒   \n",
            "下载 http://file.hankcs.com/corpus/三国演义.zip 到 /usr/local/lib/python3.6/dist-packages/pyhanlp/static/data/test/三国演义.txt.zip\n",
            "100.00%, 0 MB, 592 KB/s, 还有 0 分  0 秒   \n",
            "下载 http://file.hankcs.com/corpus/weibo-classification.zip 到 /usr/local/lib/python3.6/dist-packages/pyhanlp/static/data/test/weibo-classification.zip\n",
            "100.00%, 14 MB, 1320 KB/s, 还有 0 分  0 秒   \n",
            "/usr/local/lib/python3.6/dist-packages/pyhanlp/static/data/test/红楼梦.txt 热词\n",
            "[什么, 凤姐, 贾母, 黛玉, 姑娘, 宝钗, 怎么, 丫头, 如今, 老太太, 贾政, 奶奶, 自己, 贾琏, 平儿, 老爷, 东西, 告诉, 咱们, 姨妈, 薛姨妈, 所以, 探春, 紫鹃, 鸳鸯, 湘云, 如此, 妹妹, 婆子, 贾珍, 李纨, 答应, 尤氏, 晴雯, 媳妇, 屋里, 打发, 刘姥姥, 小丫头, 林黛玉, 薛蟠, 香菱, 孩子, 姊妹, 到底, 连忙, 明白, 丫鬟, 麝月, 姨娘, 哥哥, 贾蓉, 小厮, 果然, 意思, 周瑞, 怎么样, 主意, 已经, 越发, 跟前, 瞧瞧, 房中, 喜欢, 贾赦, 惜春, 句话, 雨村, 贾芸, 吩咐, 况且, 悄悄, 嫂子, 兄弟, 素日, 芳官, 金桂, 贾环, 言语, 雪雁, 时候, 多少, 许多, 嬷嬷, 迎春, 林之孝, 糊涂, 十分, 女孩, 伏侍, 奴才, 预备, 衣服, 请安, 林姑娘, 收拾, 赵姨娘, 莺儿, 年纪, 父亲]\n",
            "/usr/local/lib/python3.6/dist-packages/pyhanlp/static/data/test/西游记.txt 热词\n",
            "[行者, 八戒, 师父, 三藏, 大圣, 唐僧, 沙僧, 菩萨, 和尚, 怎么, 妖精, 甚么, 悟空, 国王, 徒弟, 呆子, 闻言, 如何, 今日, 兄弟, 宝贝, 取经, 铁棒, 认得, 果然, 东土, 性命, 观看, 神通, 公主, 玉帝, 变作, 哥哥, 门外, 土地, 欢喜, 陛下, 太宗, 贫僧, 金箍, 变做, 爷爷, 模样, 多少, 十分, 兵器, 袈裟, 怪物, 变化, 手段, 近前, 往西, 唬得, 娘娘, 衣服, 猪八戒, 左右, 仔细, 吩咐, 金箍棒, 师徒们, 晓得, 奈何, 观音, 安排, 言语, 孙悟空, 钉钯, 叩头, 毫毛, 关文, 半空, 五百, 拜佛, 递与, 妖邪, 筋斗, 汝等, 抬头, 径至, 战兢兢, 许多, 孩儿, 扯住, 齐天大圣, 葫芦, 皇帝, 收拾, 壁厢, 小的们, 忍不住, 佛祖, 未曾, 玄奘, 往西天, 本事, 造化, 白马, 求经, 揭谛]\n",
            "/usr/local/lib/python3.6/dist-packages/pyhanlp/static/data/test/水浒传.txt 热词\n",
            "[宋江, 李逵, 武松, 如何, 哥哥, 林冲, 吴用, 头领, 兄弟, 智深, 太尉, 戴宗, 卢俊义, 梁山泊, 燕青, 先锋, 好汉, 花荣, 晁盖, 柴进, 石秀, 王庆, 杨志, 呼延灼, 鲁智深, 太公, 秦明, 公孙胜, 张顺, 史进, 兄长, 朱仝, 阮小, 知府, 关胜, 张清, 商议, 庄客, 杨雄, 李俊, 性命, 弟兄, 东京, 西门, 怎地, 许多, 随即, 和尚, 收拾, 甚么, 小喽罗, 高太尉, 宋公明, 慌忙, 众头领, 向前, 朴刀, 时迁, 朝廷, 认得, 雷横, 枢密, 徐宁, 西门庆, 安排, 唤做, 解珍, 王婆, 员外, 刘唐, 琼英, 分付, 解宝, 十余, 寻思, 酒店, 大怒, 方腊, 孙立, 董平, 左右, 童贯, 旋风, 高俅, 梁中书, 索超, 乔道清, 吴学究, 必然, 黄信, 长老, 大虫, 师父, 押司, 传令, 施恩, 朱贵, 迎接, 城池, 将佐]\n",
            "/usr/local/lib/python3.6/dist-packages/pyhanlp/static/data/test/三国演义.txt 热词\n",
            "[玄德, 孔明, 却说, 司马, 丞相, 关公, 云长, 荆州, 夏侯, 吕布, 张飞, 诸葛, 商议, 孙权, 魏延, 赵云, 左右, 刘备, 司马懿, 姜维, 次日, 东吴, 袁绍, 十余, 周瑜, 陛下, 都督, 黄忠, 背后, 太守, 有诗, 孟获, 先锋, 邓艾, 诸葛亮, 张辽, 江东, 奈何, 曹仁, 徐州, 成都, 徐晃, 忽然, 喊声, 鲁肃, 众官, 祁山, 百姓, 十里, 庞德, 百余, 接应, 刘表, 董卓, 许褚, 分付, 粮草, 许都, 皇叔, 孙策, 文武, 追赶, 五千, 洛阳, 五百, 兄弟, 关兴, 星夜, 挺枪, 孙乾, 西川, 子龙, 准备, 袁术, 司马昭, 刘璋, 曹洪, 张翼, 甘宁, 夏侯渊, 一彪, 英雄, 孟达, 乘势, 陆逊, 吕蒙, 朝廷, 于禁, 首级, 襄阳, 曹丕, 埋伏, 传令, 坚守, 投降, 张苞, 遣使, 庞统, 心腹, 郭淮]\n",
            "体育\n",
            "[体育, 微博, 世界, 转发, BA, 直播, 新浪, 分享, NBA, 冠军, 我们, 今天, 英超, 运动, 北京, 俱乐部, 体坛, 风云, 教练, 上海, 巴萨, 国际, 没有, 时间, 什么, 皇马, 阿内尔卡, 获得, 申花, 新闻, 今晚, 关注, 希望, 已经, 开始, 最佳, 欢迎, 世界杯, 精彩, 排名, 如果, 乒乓, 人物, 自己, 梅西, 节目, 视频, 切尔西, 科比, 高尔夫, 姚明, 曼联, 进行, 湖南, 广州, 可以, 带来, 巴塞, 结束, 年度, 辽宁, CC, 可能, 支持, 正式, 男子, 预告, 互动, 第二, 湖南经视, 问题, 拜仁, 官方, 明星, 分钟, 选手, CBA, 曼城, 媒体, 期待, 职业, 消息, 女子, 欧洲, 米兰, 表现, 欧冠, 保罗, 报道, 新疆, 总决赛, 李娜, 热火, 加盟, 广东, 巴塞罗那, 记者, 超级, 西班牙, 利亚]\n",
            "生活\n",
            "[转发, 评论, 微博, 原文, 可以, 活动, 新浪, 我们, 北京, 时间, 淘宝, 生活, 今天, 自己, 圣诞, 产品, 电话, 手机, 使用, 购物, 时尚, 开始, 分钟, 工作, 现金, 朋友, 注意, 分享, 价格, 如果, 免费, 皮肤, 关注, 安全, 已经, 什么, 气温, 孩子, 团购, 疯抢, 公司, 设计, 包邮, 官方, 优惠, 市场, 地区, 公安, 网站, 参与, 交通, om, 目前, 获得, 健康, 品牌, 消费, 服务, 需要, 推荐, 网络, 信息, 地址, 进行, 减肥, 空气, 欢迎, 红包, 抽奖, 方法, 选择, 喜欢, 商城, 订票, 美容, 提供, 购买, 冬季, ao, 这样, 火车, 有机会, 食物, 问题, 辐射, 电脑, 如何, 参加, 下午, 新闻, 企业, 左右, 营养, 提醒, 客户, 影响, 电视, 他们, 运动, 警方]\n",
            "美食\n",
            "[转发, 原文, 评论, 火锅, 餐厅, 微博, 放入, 咖啡, 来自, 分钟, 即可, 圣诞, 可以, 北京, 做法, 我们, 活动, 今天, 推荐, 洗净, 套餐, 喜欢, 鸡蛋, 什么, 巧克力, 倒入, 分享, 新浪, 欢迎, 地址, 制作, 朋友, 优惠, 关注, 蛋糕, 没有, 土豆, 免费, 葡萄, 营养, 萝卜, 团购, 时间, 福州, 开业, 时候, 价格, 详情, 不错, 寿司, 少许, 健康, 适量, 辣椒, 开始, 品尝, 牛排, 生活, 羊肉, 翻炒, 料理, 牛奶, 特色, 口感, 搅拌, 均匀, 享受, 广场, 特别, 消费, 已经, 拌匀, 机会, 电话, 服务, 葡萄酒, 豆腐, 正宗, 调料, 排骨, 获得, 知道, 更多, 下午, 麻辣, 时光, 世界, 自己, 鸡翅, 香蕉, 吃货, 白糖, 粉丝, 花椒, 经典, 产品, 香天下, 糯米, 厦门, 捞出]\n",
            "房产\n",
            "[北京, 政策, 调控, 转发, 微博, 价格, 成交, 利率, 评论, 限购, 经济, 住宅, 银行, 平方米, 新浪, 项目, 面积, 开发商, 销售, 目前, 平米, 环比, 优惠, 上涨, 投资, 政府, 企业, 线城市, 表示, 商品, 公司, 开始, 已经, 认为, 万科, 广州, 首套, 我们, 部分, 原文, 人民, 没有, 推出, 笋盘, 详情, 可能, 保障, 集团, 下跌, 小区, 租金, 财经, 深圳, 建筑, 酒店, 继续, 超过, 需求, 增长, 建设, 户型, 指数, 武汉, 活动, 三线城市, 首套房贷, 收入, 客户, 今天, 电商, 日笋盘, 贷款, 同比, 达到, 预计, 数据, 任志强, 限购政策, 时间, 调整, 国际, 放松, 佛山, 人士, 廉租, 更多, 花园, 增加, 问题, 阳光, 装修, 二三, 减少, 新闻, 回归, 影响, 四川, 公寓, 生活, 设计]\n",
            "文学出版\n",
            "[转发, 微博, 杂志, 推荐, 出版, 小说, 原文, 作品, 自己, 可以, 乔布斯, 没有, 什么, 世界, 出版社, 生活, 故事, 意林, 时代, 关注, 北京, 上市, 封面, 今天, 已经, 时间, 阅读, 周刊, 活动, 支持, 朋友, 欢迎, 文化, 开始, 内容, 科学, ★★, 分享, 孩子, 时尚, 编辑, 感谢, 希望, 喜欢, 感恩, 苹果, 即将, 动漫, 经典, 订阅, 因为, 意林杂志, 生命, 工作, 粉丝, 当当, 幸福, ★★★, 期待, 科幻, 下午, 每天, 官方, 精彩, 设计, 联系, 系列, 主编, 回复, 预售, 各位, 先生, 学出版社, 值得, 参与, 新闻, 免费, 购买, 电子, 国际, 漫画, 时候, 谢谢, 更多, 电影, 客户, 敬请, 预告, 获得, 知道, 研究, 时装, 火花, 正式, 书籍, 快乐, 重要, 艺术, 南京, 全球]\n",
            "广告公共\n",
            "[广告, 微博, 我们, 转发, 活动, 绿色, 评论, 自己, 公益, 世界, 环境, 湖南, 中国, 环保, 朋友, 原文, 参与, 关注, 没有, 机会, 新浪, 湖南省, om, 优惠, 开始, 可以, 计划, 工作, 低碳, 进行, 电视, 城市, 分享, 获得, 感恩, 问题, 音响, 测试, 今天, 新闻, 老师, 时间, 支持, 家园, 环境事件, 老爸, 腾讯, 什么, 转播, 有机会, 这里, 创意, 圣诞, 专业, 网络, 商城, 方式, 提供, 公司, 广东, 准备, 喜欢, 安全, 管理, 世界上, 报名, 物种, 企业, 孩子, 成功, 正式, 更多, 天使, 彻底, 黄伟老师, 长沙, 海洋, 欢迎, 已经, 系列, 参加, 发布, QQ, 品牌, 营销, 免费, 川宁, 手机, 畅游, 健康, 投放, 现场, 第二, 保护, 官方, 温暖, 湖泊, ack, 媒体, 气候]\n",
            "女性\n",
            "[皮肤, 转发, 可以, 原文, 评论, 肌肤, 面膜, 微博, 减肥, 化妆, 自己, 效果, 时尚, 整形, 分钟, 健康, 收听, 我们, 星座, 使用, 喜欢, 产品, 方法, 瘦身, 什么, 除皱, 生活, 注射, 每天, 保湿, 适合, 妈妈, 蜂蜜, 柠檬, 射手, 推荐, 新浪, 没有, 活动, 天蝎, 运动, 分享, 选择, 皱纹, 双鱼, 蛋白, 食物, 问题, 冬季, 狮子, 搭配, 男人, 保养, 手术, 时间, 养颜, 容易, 朋友, 时候, 因为, 排毒, 巨蟹, 天蝎座, 按摩, 白羊, 金牛, 简单, 中国, 注意, 胶原, 双子座, 摩羯, 脂肪, 天秤, 减少, 保持, 医院, 设计, 衰老, 如何, 滋润, 改善, 需要, 进行, 补充, 狮子座, 射手座, 指甲, 毛孔, 治疗, 功效, 维生素, 睫毛, 眼线, 胶原蛋白, 吸收, 精华, 专家, 安全, 关注]\n",
            "健康\n",
            "[健康, 转发, 原文, 评论, 微博, 治疗, 营养, 维生素, 疾病, 医院, 注意, 身体, 皮肤, 感冒, 时间, 糖尿病, 每天, 患者, 运动, 预防, 分钟, 萝卜, 冬季, 减肥, 蛋白, 导致, 消化, 血液, 容易, 蜂蜜, 血管, 艾滋病, 新浪, 排毒, 牛奶, 蔬菜, 眼睛, 影响, 引起, 长期, 降低, 保护, 苹果, 症状, 疲劳, 脂肪, 研究, 方法, 早餐, 出现, 吸收, 睡眠, 保持, 增加, 心脏, 功能, 减少, 感染, 需要, 造成, 缓解, 咳嗽, 经常, 自己, 美容, 专家, 问题, 神经, 工作, 女性, 免疫, 血压, 促进, 什么, 我们, 补充, 蛋白质, 卫生, 功效, 进行, 正常, 习惯, 细胞, 胡萝卜, 酸奶, 关注, 慢性, 今天, 危害, 干燥, 活动, 葡萄, 过度, 吸烟, 呼吸, 柠檬, 检查, 避免, 衰老, 孩子]\n",
            "教育\n",
            "[教育, 转发, 评论, 微博, 原文, 事故, 孩子, 来自, 江苏, 新浪, 安全, 考试, 丰县, 英语, 我们, 死亡, 首羡, 北京, 新闻, 今天, 他们, 工作, 时间, 幼儿, 进行, 侧翻, 老师, 问题, 活动, 可以, 东方, 交通, 什么, 管理, 自己, 研究, 新东方, 专业, 关注, 社会, 司机, 幼儿园, 政府, 徐州, 要求, 没有, 经济, 目前, 上海, 江苏丰县, 国际, 已经, 部门, 下午, 现场, 校车侧翻, 表示, 参加, 商学院, 培训, 造成, 课程, 记者, 毕业, 四六级, 丰县首羡, 通过, 都市, 文化, 网友, 情况, 企业, 如何, 领导, 开始, 首羡镇, 需要, 超载, 死亡人数, 当地, 朋友, 驾驶, 机构, 这样, 公务员, 责任, 网络, 信息, 发生侧, 标准, 发生重大, 甘肃, 申请, 公布, 讲座, 提供, 教授, 如果, 车祸, 启德]\n",
            "IT\n",
            "[手机, 苹果, hone, 微博, 中国, 小米, QQ, 用户, 移动, 转发, 公司, 可以, 电脑, 互联网, 软件, 智能, 电视, 乔布斯, 我们, 腾讯, 产品, 应用, 使用, 游戏, 系统, 评论, 什么, 网络, 诺基亚, 市场, 新浪, 支持, 服务, 活动, 智能手机, 设计, 技术, 分享, 三星, 视频, 关注, 联通, 平板, 功能, 信息, 免费, 下载, 已经, 自己, 今天, 数据, 安卓, 科技, iPad, 开始, 推出, 问题, 平台, 数码, 网站, 企业, HTC, 进行, 获得, 体验, 计算, 时间, 目前, 原文, 全球, 北京, 新浪微博, 客户, 发展, 世界, 平板电脑, 需要, 提供, 推荐, 安全, 通过, 品牌, 正式, 显示, 朋友, 未来, 百度, 消息, 谷歌, 内容, 商务, 销售, 笔记本, 移动互联, 屏幕, 摩托, 云计算, 地址, 有机会, 官方]\n",
            "财经\n",
            "[市场, 经济, 投资, 黄金, 美元, 反弹, 银行, 指数, 继续, 政策, 金融, 公司, 可能, 增长, 目前, 投资者, 人民, 价格, 交易, 支撑, 震荡, 企业, 今天, 关注, 没有, 危机, 人民币, 证券, 国际, 货币, 板块, 欧洲, 走势, 央行, 我们, 影响, 数据, 风险, 短期, 转发, 问题, 微博, 白银, 全球, 短线, 分析, 评论, 调整, 发展, 操作, 昨日, 建议, 预计, 成交, 附近, 连续, 压力, 机构, 新浪, 如果, 消息, 时间, 技术, 回落, 开始, 主要, 趋势, 什么, 利率, 目标, 欧债, 通胀, 产品, 存款, 水平, 政府, 显示, 认为, 小幅, 未来, 商品, 地产, 表现, 跌停, 消费, 维持, 分享, 早盘, 明显, 阻力, 保险, 债务, 工作, 方面, 月份, 准备, 空间, 收益, 再次, 表示]\n",
            "传媒\n",
            "[微博, 转发, 评论, 节目, 新闻, 卫视, 关注, 中国, 新浪, 我们, 新浪微博, 原文, 媒体, 欢迎, 今天, 活动, 直播, 今晚, 电视台, 音乐, 频道, 敬请, 主持, 生活, 栏目, 网络, 参与, 收听, 可以, 北京, 进行, 信息, 记者, 支持, 朋友, 请关注, 主持人, 分享, 江西, 交通, 问题, 他们, 现场, 什么, 时间, 通过, 热线, 江苏, 故事, 开始, 期待, 内容, 精彩, 观众, 访谈, 敬请关注, 传媒, 互动, 自己, 快乐, 广告, 如何, 幸福, 世界, 之声, 中央, 周六, 都市, 点击, 希望, 感谢, 社会, 继续, 城市, 客户, 投票, 企业, 方式, 官方, 编辑, 需要, 嘉宾, 手机, 湖南, 更多, 非常, 国际, 获得, 财经, 专业, 西卫视, 网站, 完美, 公司, 影响, 已经, 浙江, 调查, 旅游, 特别]\n",
            "育儿\n",
            "[原文, 转发, 评论, 可以, 微博, 活动, 自己, 幼儿, 奶粉, 食物, 什么, 父母, 专家, 时间, 注意, 开始, 培养, 健康, 没有, 他们, 需要, 早教, 我们, 爸爸, 新浪, 营养, 家庭, 母乳, 每天, 安全, 喂养, 水果, 影响, 如何, 故事, 医院, 布奇, 学习, 习惯, 游戏, 父亲, 智灵通, 进行, 方法, 阅读, 这些, 上海, 婴幼儿, 帮助, 幼儿园, 适合, 频道, 应该, 怎么, 音乐, 运动, 朋友, 睡眠, 饮食, 各种, 快乐, 今天, 容易, 感冒, 自信, 产品, 电视, 环境, 错误, 智力, 了解, 选择, 泡泡, 提高, 满足, 优优宝贝, 世界, 问题, 知道, 参加, 谣言, 孕妇, 最佳, 粉碎, 辅食, 圣诞, 母乳喂养, 美国, 兴趣, 鼓励, 避免, 蛋白, 课程, 保持, 知识, 增强, 促进, 保健, 吸收, 关注]\n",
            "时尚\n",
            "[转发, 评论, 原文, 微博, 设计, 中国, 原文评论, 原文转发, 造型, 搭配, 新浪, 我们, 婚纱, 模特, 品牌, 系列, 可以, 关注, 圣诞, 婚礼, 活动, 艺术, 自己, 摄影, 设计师, 国际, 珠宝, 风格, 美容, 杂志, 喜欢, 男士, 世界, 北京, 先生, 创意, 街拍, 芭莎, 什么, 今天, 经典, 更多, 秋冬, 分享, 潮流, 化妆, 冬季, 年度, 支持, 推荐, 上海, 流行, 如果, 完美, 推出, 明星, 成为, 效果, 全球, 黑色, 专业, 非常, 选择, 参加, 产品, 气质, 网站, 开始, 新娘, 获得, 优惠, 巴黎, 瑞丽, 市场, 服饰, 奢华, 奢侈品, 盛典, 期待, 适合, 优雅, 生活, 拍摄, 休闲, 打造, 麦包, 温暖, 春夏, 官方, 各种, 欢迎, 机会, 哈哈, 感觉, 已经, 肌肤, 复古, 颜色, 简单, 精致]\n",
            "人文艺术\n",
            "[艺术, 自己, 我们, 转发, 可以, 作品, 微博, 成功, 什么, 因为, 需要, 生活, ur, 原文, 幸福, 喜欢, 放下, 时候, 时间, 摄影, 知道, 文化, 世界, 北京, 朋友, 术馆, 工作, 当代, 今天, 拥有, 转发微博, 如果, 展览, 开始, 照片, 分享, 改变, 孤独, 真正, 美术馆, 东西, 音乐, 开幕, 心态, 其实, 很多, in, 生命, 结果, 失败, 精神, 活动, th, 欣赏, 件事, 任何, 简单, 蒙娜丽莎, 下午, 问题, 动物, 承受, 价值, 能够, 感恩, 企业, 书画, 举行, 财富, 欢迎, 组织, 影响, 员工, 已经, 市场, 国际, 精彩, he, 永远, 获得, 快乐, 智慧, 共同, 掌握, 学习, 身体, 主义, 过程, 设计, 英国, 职业, 如何, 或者, 目标, 参加, 复古, 努力, 属于, 创造, 创业]\n",
            "游戏\n",
            "[城市, 微博, 起来, 活动, 世界, 英雄, 三国, 可以, 腾讯, 视频, 网络, 测试, 获得, 魔兽, 支持, 联盟, 公会, 十大, 开启, 官方, 礼包, 已经, 欢迎, 正式, 英雄联盟, 参与, 什么, 期待, 转发, 最受, 风云, 投票, 开始, QQ农, 没有, 体验, 穿越, 魔兽世界, 关注, 公司, 分享, 激活, 领取, 争霸, 时间, 手机, 发布, 收听, 今天, 免费, 奖励, 参加, 用户, 电子, 下载, 推荐, 今日, 自己, 朋友, 战争, 激活码, WCG, 点击, 平台, 竞技, 喜欢, 进行, DNF, 开放, 推出, 经典, ame, 有机会, 穿越火线, ww, 设计, 单机, 不删档, 勇士, 加入, 梦幻, 频道, 年度, 农场, 运营, 评论, 公布, 首款, 大冲锋, 希望, 决赛, 电影, 终于, 即将, 新浪, 小鸟, Q币, 移动, 版本, 系统]\n",
            "动漫\n",
            "[腾讯, 海贼王, 分享, 作品, 游戏, 世界, 我们, 微博, 火影, 文化, 电影, 视频, 喜欢, 啦啦, 没有, 系列, 开始, 转发, 欢迎, 什么, 可以, 国际, 第二, 公司, 嘉年华, ay, 精彩, 评论, 连载, 官方, 原创, 金龙奖, 自己, 故事, 首届, 预告, 地址, 制作, 希望, 经典, 关注, 播出, 杂志, 今天, 学院, 已经, 四格, 爆笑, 北京, 电视, 主题, 支持, 陈维东, COS, 产业, 朋友, 短片, 武汉, 目前, 圣诞, 生活, 颁奖, 设计, 频道, com, 产品, 联盟, 进行, 少女, 搞笑, 英雄, 将于, 未来, 期精彩, 盛典, 感谢, 宣传, 论坛, 工作, 内容, 艺术, 更多, 即将, 创意, 那些, 详情, 获奖, 期待, 届中国, 济公, 各位, 消息, 继续, 加入, 推荐, 有限, 文字, 公布, 政府, 剧场]\n",
            "娱乐\n",
            "[电影, 转发, 音乐, 微博, 评论, 新浪, 演唱, 分享, 演唱会, 十三钗, 中国, 娱乐, 卫视, 视频, 原文, ★★, 今天, 北京, 喜欢, 那些, 现场, 自己, 明星, 期待, 演员, 导演, 关注, 腾讯, 龙门, 什么, 活动, ★★★, 那些年, 朋友, 支持, 故事, 节目, 龙门飞甲, 精彩, 女孩, 可以, 张艺谋, 我们一起, 春晚, 世界, 时间, 乐队, 电视剧, 原文评论, 原文转发, 推荐, 获得, 因为, 广播, 亲密, 作品, 主题, 上映, 跨年, 时尚, 经典, 非常, 周杰伦, 专辑, 高清, 预告, 时代, 官方, 观众, 希望, 感谢, 生活, 播放, 今晚, 开始, 亲密敌人, 已经, 失恋, 参与, 哈哈, 如果, 粉丝, 有机会, 全球, 国际, 幸福, 门票, 南京, 最佳, 主持, 时候, 知道, 文化, 杨幂, 主题曲, 客户端, 更多, 不错, 潜伏, 艺术]\n",
            "旅游\n",
            "[转发, 微博, 原文, 世界, 来自, 滑雪, 活动, 这里, 成都, 城市, 景区, 新浪, 可以, 公园, 温泉, 生活, 文化, 原文评论, 原文转发, 摄影, 酒店, 体验, 欢迎, 国际, 我们, 度假, 关注, 浪漫, 今天, 美丽, 发展, 自然, 位于, 西藏, 报名, 四川, 自驾, 杂志, 圣诞, 历史, 机会, 韩国, 北京, 开始, 时间, 时尚, 推荐, 分享, 古镇, 门票, 公司, 经济, 森林, 没有, 云南, 特色, 三亚, 朋友, 台湾, 参加, 如果, 优惠, 什么, 风情, 滑雪场, 更多, 建筑, 免费, 官方, 有机会, 香港, 推出, 感受, 购物, 峨眉, 唯一, 冬季, 休闲, 网站, 非常, 环球, 西岭雪山, 方式, 服务, 户外, 工作, 投票, 频道, 详情, 福建, 享受, 丽江, 生态, 武汉, 名校, 正式, 新疆, 第二, 广播, 攻略]\n",
            "汽车\n",
            "[转发, 评论, 微博, 我们, 公司, 原文, 奥迪, 品牌, 新浪, 市场, 宝马, 活动, 大众, 东风, 分享, 国际, 发动机, 发布, 北京, 可以, 奔驰, 系统, 上海, 广州, 客户, 设计, 安全, 已经, 汽车族, 豪华, 销售, 丰田, 改装, 驾驶, 原文评论, 原文转发, 杂志, 正式, 关注, 方向, 进口, 销量, 没有, 轮胎, 雪佛兰, 保时捷, 州车展, 交通, 推出, 全球, 如果, 什么, 年度车型, 使用, 获得, 公里, 目前, 今天, 新闻, 行驶, 开始, 冬季, 福特, 广州车展, 座驾, 长城, 以及, 价格, 百事达, 世界, 消费, 优惠, 参与, 增长, 服务, 城市, 技术, 颁奖, 时尚, 保养, 法拉利, 企业, 官方, 部分, 售价, 生产, 长安, 通过, 方面, 召回, 情况, 环保, 问题, 即将, 客户端, 兰博基尼, 莱斯, 影响, 亮相, 未来]\n",
            "校园\n",
            "[转发, 环保, 教育, 微博, 招聘, 我们, 报名, 毕业, 考试, 老师, 活动, 时间, 原文, 青年, 本科, 北京, 管理, 参加, 孩子, 安全, 举行, 保护, 艺术, 开始, 优秀, 可以, 欢迎, 进行, 志愿, 工作, 培训, 协会, 信息, 没有, 国际, 师范, 关注, 同学们, 技术, 创业, 计划, 要求, 舞蹈, 绿色, 需要, 音乐, 知识, 自己, 现场, 科技, 项目, 乐山, 方式, 新疆, 英语, 将于, 事故, 志愿者, 下午, 上午, 重庆, 网络, 工程, 新闻, 分享, 高校环保, 新东方, 参与, 作品, 浙江, 演讲, 死亡, 美术, 咨询, 地区, 社团, 交通, 已经, 问题, 江苏, 即将, 资源, 第二, 简章, 设计, 动画, 他们, 今天, 什么, 条件, 环境, 政府, 选择, 世界, 课程, 论坛, 相关, 更多, 宣传, 推荐]\n",
            "[薛姨妈, 贾珍, 刘姥姥, 麝月, 贾蓉, 周瑞, 贾赦, 雨村, 贾芸, 芳官, 贾环, 林姑娘, 赵姨娘, 莺儿, 宝蟾, 两银子, 溃骸, 秦钟, 薛蝌, 几句, 岫烟, 赖大, 听了这话, 茗烟, 递与, 钏儿, 士隐, 荣府, 贾蔷, 冯紫英, 焙茗, 请了安, 宁府, 包勇, 金钏, 鲍二, 代儒, 嗳哟, 从小儿, 在床上, 既这么, 十六, 让坐, 李贵, 打谅, 既这样, 金钏儿, 日一早, 李嬷嬷, 族中, 唬了一跳, 蘅芜, 还了得, 王仁, 在炕上, 间屋, 藕官, 几句话, 尤三姐, 五百, 也未可知, 警幻, 越性, 手帕子, 十两银子, 李婶, 忽然想起, 小蹄子, 熙凤, 六十, 十九, 琏二奶奶, 珍大爷, 往那里去, 要知端, 些闲话, 孙女儿, 蒋玉菡, 榻上, Φ溃骸, 罢咧, 八九, 乱嚷, 几个钱, 点点头儿, 自己房中, 李十儿, 犹未, 既如此, 忙陪笑, 千万, 十七, 沁芳, 在外间, 几两银子, 王子腾, 马道婆, 铁槛寺, 李纹, 若论]\n"
          ],
          "name": "stdout"
        }
      ]
    },
    {
      "cell_type": "markdown",
      "metadata": {
        "id": "lPMVV1InUiM7"
      },
      "source": [
        "## 关键词提取"
      ]
    },
    {
      "cell_type": "markdown",
      "metadata": {
        "id": "4TwwFxf5a2JJ"
      },
      "source": [
        "### 词频统计"
      ]
    },
    {
      "cell_type": "code",
      "metadata": {
        "colab": {
          "base_uri": "https://localhost:8080/"
        },
        "id": "c9GT5WftUu8F",
        "outputId": "0ac95772-d51b-4115-9e5c-1879159274ec"
      },
      "source": [
        "from pyhanlp import *\r\n",
        "\r\n",
        "TermFrequency = JClass('com.hankcs.hanlp.corpus.occurrence.TermFrequency')\r\n",
        "TermFrequencyCounter = JClass('com.hankcs.hanlp.mining.word.TermFrequencyCounter')\r\n",
        "\r\n",
        "if __name__ == '__main__':\r\n",
        "    counter = TermFrequencyCounter()\r\n",
        "    counter.add(\"加油加油中国队！\")  # 第一个文档\r\n",
        "    counter.add(\"中国观众高呼加油中国\")  # 第二个文档\r\n",
        "    for termFrequency in counter:  # 遍历每个词与词频\r\n",
        "        print(\"%s=%d\" % (termFrequency.getTerm(), termFrequency.getFrequency()))\r\n",
        "    print(counter.top(2))  # 取 top N\r\n",
        "\r\n",
        "    #  根据词频提取关键词\r\n",
        "    print('')\r\n",
        "    print(TermFrequencyCounter.getKeywordList(\"女排夺冠，观众欢呼女排女排女排！\", 3))"
      ],
      "execution_count": null,
      "outputs": [
        {
          "output_type": "stream",
          "text": [
            "中国=2\n",
            "中国队=1\n",
            "加油=3\n",
            "观众=1\n",
            "高呼=1\n",
            "[加油=3, 中国=2]\n",
            "\n",
            "[女排, 观众, 欢呼]\n"
          ],
          "name": "stdout"
        }
      ]
    },
    {
      "cell_type": "markdown",
      "metadata": {
        "id": "h98umrKJdNul"
      },
      "source": [
        ""
      ]
    },
    {
      "cell_type": "markdown",
      "metadata": {
        "id": "0m2R0oBkay4G"
      },
      "source": [
        "### TF-IDF"
      ]
    },
    {
      "cell_type": "markdown",
      "metadata": {
        "id": "dN8Vh4zSbbHA"
      },
      "source": [
        "在TF-IDF计算方法中，一个词语的重要程度不光正比于它在文档中的频次，还反比于有多少文档包含它。\r\n",
        "当然，实际应用时做一些扩展，比如加一平滑、IDF取对数以防止浮点数下溢出。HanLP的示例如下:"
      ]
    },
    {
      "cell_type": "code",
      "metadata": {
        "colab": {
          "base_uri": "https://localhost:8080/"
        },
        "id": "fOYEV16WbM32",
        "outputId": "b42cc980-eb12-43be-b8e4-b778507fb924"
      },
      "source": [
        "from pyhanlp import *\r\n",
        "\r\n",
        "TfIdfCounter = JClass('com.hankcs.hanlp.mining.word.TfIdfCounter')\r\n",
        "\r\n",
        "if __name__ == '__main__':\r\n",
        "    counter = TfIdfCounter()\r\n",
        "    counter.add(\"《女排夺冠》\", \"女排北京奥运会夺冠\")  # 输入多篇文档\r\n",
        "    counter.add(\"《羽毛球男单》\", \"北京奥运会的羽毛球男单决赛\")\r\n",
        "    counter.add(\"《女排》\", \"中国队女排夺北京奥运会金牌重返巅峰，观众欢呼女排女排女排！\")\r\n",
        "    counter.compute()  # 输入完毕\r\n",
        "    for id in counter.documents():\r\n",
        "        print(id + \" : \" + counter.getKeywordsOf(id, 3).toString())  # 根据每篇文档的TF-IDF提取关键词\r\n",
        "    # 根据语料库已有的IDF信息为语料库之外的新文档提取关键词\r\n",
        "    \r\n",
        "    print('')\r\n",
        "    print(counter.getKeywords(\"奥运会反兴奋剂\", 2))"
      ],
      "execution_count": null,
      "outputs": [
        {
          "output_type": "stream",
          "text": [
            "《女排》 : [女排=5.150728289807123, 重返=1.6931471805599454, 巅峰=1.6931471805599454]\n",
            "《女排夺冠》 : [夺冠=1.6931471805599454, 女排=1.2876820724517808, 奥运会=1.0]\n",
            "《羽毛球男单》 : [决赛=1.6931471805599454, 羽毛球=1.6931471805599454, 男单=1.6931471805599454]\n",
            "\n",
            "[反, 兴奋剂]\n"
          ],
          "name": "stdout"
        }
      ]
    },
    {
      "cell_type": "markdown",
      "metadata": {
        "id": "d3N9cvDQgy5B"
      },
      "source": [
        "### TextRank"
      ]
    },
    {
      "cell_type": "code",
      "metadata": {
        "colab": {
          "base_uri": "https://localhost:8080/"
        },
        "id": "hc_1ttkfhTuQ",
        "outputId": "7c336886-7541-462f-d05b-2b93ffa6e684"
      },
      "source": [
        "from pyhanlp import *\r\n",
        "\r\n",
        "\"\"\" 关键词提取\"\"\"\r\n",
        "content = (\r\n",
        "\"程序员(英文Programmer)是从事程序开发、维护的专业人员。\"\r\n",
        "\"一般将程序员分为程序设计人员和程序编码人员，\"\r\n",
        "\"但两者的界限并不非常清楚，特别是在中国。\"\r\n",
        "\"软件从业人员分为初级程序员、高级程序员、系统\"\r\n",
        "\"分析员和项目经理四大类。\")\r\n",
        "\r\n",
        "TextRankKeyword = JClass(\"com.hankcs.hanlp.summary.TextRankKeyword\")\r\n",
        "keyword_list = HanLP.extractKeyword(content, 5)\r\n",
        "print(keyword_list)"
      ],
      "execution_count": null,
      "outputs": [
        {
          "output_type": "stream",
          "text": [
            "[程序员, 程序, 分为, 人员, 软件]\n"
          ],
          "name": "stdout"
        }
      ]
    },
    {
      "cell_type": "markdown",
      "metadata": {
        "id": "bKWLpX2xdPkg"
      },
      "source": [
        "## 短语提取"
      ]
    },
    {
      "cell_type": "code",
      "metadata": {
        "colab": {
          "base_uri": "https://localhost:8080/"
        },
        "id": "0J-5LxhydPLh",
        "outputId": "2e7ff759-a913-43f0-e192-edb17c308d80"
      },
      "source": [
        "from pyhanlp import *\r\n",
        "\r\n",
        "\"\"\" 短语提取\"\"\"\r\n",
        "text = '''\r\n",
        "  算法工程师\r\n",
        "  算法（Algorithm）是一系列解决问题的清晰指令，也就是说，能够对一定规范的输入，在有限时间内获得所要求的输出。\r\n",
        "  如果一个算法有缺陷，或不适合于某个问题，执行这个算法将不会解决这个问题。不同的算法可能用不同的时间、\r\n",
        "  空间或效率来完成同样的任务。一个算法的优劣可以用空间复杂度与时间复杂度来衡量。算法工程师就是利用算法处理事物的人。\r\n",
        "\r\n",
        "  1职位简介\r\n",
        "  算法工程师是一个非常高端的职位；\r\n",
        "  专业要求：计算机、电子、通信、数学等相关专业；\r\n",
        "  学历要求：本科及其以上的学历，大多数是硕士学历及其以上；\r\n",
        "  语言要求：英语要求是熟练，基本上能阅读国外专业书刊；\r\n",
        "  必须掌握计算机相关知识，熟练使用仿真工具MATLAB等，必须会一门编程语言。\r\n",
        "\r\n",
        "  2研究方向\r\n",
        "  视频算法工程师、图像处理算法工程师、音频算法工程师 通信基带算法工程师\r\n",
        "\r\n",
        "  3目前国内外状况\r\n",
        "  目前国内从事算法研究的工程师不少，但是高级算法工程师却很少，是一个非常紧缺的专业工程师。\r\n",
        "  算法工程师根据研究领域来分主要有音频/视频算法处理、图像技术方面的二维信息算法处理和通信物理层、\r\n",
        "  雷达信号处理、生物医学信号处理等领域的一维信息算法处理。\r\n",
        "  在计算机音视频和图形图像技术等二维信息算法处理方面目前比较先进的视频处理算法：机器视觉成为此类算法研究的核心；\r\n",
        "  另外还有2D转3D算法(2D-to-3D conversion)，去隔行算法(de-interlacing)，运动估计运动补偿算法\r\n",
        "  (Motion estimation/Motion Compensation)，去噪算法(Noise Reduction)，缩放算法(scaling)，\r\n",
        "  锐化处理算法(Sharpness)，超分辨率算法(Super Resolution) 手势识别(gesture recognition) 人脸识别(face recognition)。\r\n",
        "  在通信物理层等一维信息领域目前常用的算法：无线领域的RRM、RTT，传送领域的调制解调、信道均衡、信号检测、网络优化、信号分解等。\r\n",
        "  另外数据挖掘、互联网搜索算法也成为当今的热门方向。\r\n",
        "  算法工程师逐渐往人工智能方向发展。'''\r\n",
        " \r\n",
        "phrase_list = HanLP.extractPhrase(text, 10)\r\n",
        "print(phrase_list)"
      ],
      "execution_count": null,
      "outputs": [
        {
          "output_type": "stream",
          "text": [
            "[算法工程师, 算法处理, 一维信息, 算法研究, 信号处理, 信息算法, 视频算法, 处理算法, 通信物理层, 互联网搜索算法]\n"
          ],
          "name": "stdout"
        }
      ]
    },
    {
      "cell_type": "markdown",
      "metadata": {
        "id": "BCri6EwBffzu"
      },
      "source": [
        "目前该模块只支持提取二元语法短语。在另一些场合，关键词或关键短语依然显得碎片化，不足以表达完整的主题。这时通常提取中心句子作为文章的简短摘要，而关键句的提取依然是基于 PageRank 的拓展。"
      ]
    },
    {
      "cell_type": "markdown",
      "metadata": {
        "id": "YpQItk99heOD"
      },
      "source": [
        "## 关键句提取"
      ]
    },
    {
      "cell_type": "code",
      "metadata": {
        "colab": {
          "base_uri": "https://localhost:8080/"
        },
        "id": "hvmS4xawhhM8",
        "outputId": "2724b277-cb8c-4f55-9173-d5219ed91235"
      },
      "source": [
        "## from pyhanlp import *\r\n",
        "\r\n",
        "\"\"\"自动摘要\"\"\"\r\n",
        "document = '''水利部水资源司司长陈明忠9月29日在国务院新闻办举行的新闻发布会上透露，\r\n",
        "根据刚刚完成了水资源管理制度的考核，有部分省接近了红线的指标，\r\n",
        "有部分省超过红线的指标。对一些超过红线的地方，陈明忠表示，对一些取用水项目进行区域的限批，\r\n",
        "严格地进行水资源论证和取水许可的批准。'''\r\n",
        "\r\n",
        "TextRankSentence = JClass(\"com.hankcs.hanlp.summary.TextRankSentence\")\r\n",
        "sentence_list = HanLP.extractSummary(document, 5)\r\n",
        "print(sentence_list)"
      ],
      "execution_count": null,
      "outputs": [
        {
          "output_type": "stream",
          "text": [
            "[严格地进行水资源论证和取水许可的批准, 水利部水资源司司长陈明忠9月29日在国务院新闻办举行的新闻发布会上透露, 有部分省超过红线的指标, 有部分省接近了红线的指标, 陈明忠表示]\n"
          ],
          "name": "stdout"
        }
      ]
    },
    {
      "cell_type": "markdown",
      "metadata": {
        "id": "OvEcthb1o8Ya"
      },
      "source": [
        "# 文本聚类\r\n"
      ]
    },
    {
      "cell_type": "markdown",
      "metadata": {
        "id": "L0iDnqUvpAsb"
      },
      "source": [
        "## k均值算法\r\n"
      ]
    },
    {
      "cell_type": "code",
      "metadata": {
        "colab": {
          "base_uri": "https://localhost:8080/"
        },
        "id": "7rLpwmeXpEf_",
        "outputId": "a2c66ce8-e7b5-4716-f7da-6da84a80de08"
      },
      "source": [
        "!pip install pyhanlp\r\n",
        "from pyhanlp import *\r\n",
        "ClusterAnalyzer = JClass('com.hankcs.hanlp.mining.cluster.ClusterAnalyzer')\r\n",
        "if __name__ == '__main__':\r\n",
        "    analyzer = ClusterAnalyzer()\r\n",
        "    analyzer.addDocument(\"赵一\", \"流行, 流行, 流行, 流行, 流行, 流行, 流行, 流行, 流行, 流行, 蓝调, 蓝调, 蓝调, 蓝调, 蓝调, 蓝调, 摇滚, 摇滚, 摇滚, 摇滚\")\r\n",
        "    analyzer.addDocument(\"钱二\", \"爵士, 爵士, 爵士, 爵士, 爵士, 爵士, 爵士, 爵士, 舞曲, 舞曲, 舞曲, 舞曲, 舞曲, 舞曲, 舞曲, 舞曲, 舞曲\")\r\n",
        "    analyzer.addDocument(\"张三\", \"古典, 古典, 古典, 古典, 民谣, 民谣, 民谣, 民谣\")\r\n",
        "    analyzer.addDocument(\"李四\", \"爵士, 爵士, 爵士, 爵士, 爵士, 爵士, 爵士, 爵士, 爵士, 金属, 金属, 舞曲, 舞曲, 舞曲, 舞曲, 舞曲, 舞曲\")\r\n",
        "    analyzer.addDocument(\"王五\", \"流行, 流行, 流行, 流行, 摇滚, 摇滚, 摇滚, 嘻哈, 嘻哈, 嘻哈\")\r\n",
        "    analyzer.addDocument(\"马六\", \"古典, 古典, 古典, 古典, 古典, 古典, 古典, 古典, 摇滚\")\r\n",
        "    print(analyzer.kmeans(3))"
      ],
      "execution_count": 2,
      "outputs": [
        {
          "output_type": "stream",
          "text": [
            "Collecting pyhanlp\n",
            "\u001b[?25l  Downloading https://files.pythonhosted.org/packages/9a/f1/38c5012dbe652fbd7d701fdf77682c6de0a4527aa4dd5ec20d191b077768/pyhanlp-0.1.67.tar.gz (87kB)\n",
            "\u001b[K     |████████████████████████████████| 92kB 5.7MB/s \n",
            "\u001b[?25hCollecting jpype1==0.7.0\n",
            "\u001b[?25l  Downloading https://files.pythonhosted.org/packages/07/09/e19ce27d41d4f66d73ac5b6c6a188c51b506f56c7bfbe6c1491db2d15995/JPype1-0.7.0-cp36-cp36m-manylinux2010_x86_64.whl (2.7MB)\n",
            "\u001b[K     |████████████████████████████████| 2.7MB 12.4MB/s \n",
            "\u001b[?25hBuilding wheels for collected packages: pyhanlp\n",
            "  Building wheel for pyhanlp (setup.py) ... \u001b[?25l\u001b[?25hdone\n",
            "  Created wheel for pyhanlp: filename=pyhanlp-0.1.67-py2.py3-none-any.whl size=30031 sha256=10a0daf28d2f4a7e2d0adc49895a1c2639102c31d5c9ca7b62de16d240fbf188\n",
            "  Stored in directory: /root/.cache/pip/wheels/1f/82/e7/8a16944621d845eddf8277fa14a0194941f5bbad86ddce7cd1\n",
            "Successfully built pyhanlp\n",
            "Installing collected packages: jpype1, pyhanlp\n",
            "Successfully installed jpype1-0.7.0 pyhanlp-0.1.67\n",
            "下载 https://file.hankcs.com/hanlp/hanlp-1.8.0-release.zip 到 /usr/local/lib/python3.6/dist-packages/pyhanlp/static/hanlp-1.8.0-release.zip\n",
            "100.00%, 1 MB, 545 KB/s, 还有 0 分  0 秒   \n",
            "下载 https://file.hankcs.com/hanlp/data-for-1.7.5.zip 到 /usr/local/lib/python3.6/dist-packages/pyhanlp/static/data-for-1.8.0.zip\n",
            "98.20%, 626 MB, 6878 KB/s, 还有 0 分  1 秒   [[李四, 钱二], [王五, 赵一], [张三, 马六]]\n"
          ],
          "name": "stdout"
        }
      ]
    },
    {
      "cell_type": "markdown",
      "metadata": {
        "id": "lALURzWYpY4I"
      },
      "source": [
        "## 重复二分聚类算法"
      ]
    },
    {
      "cell_type": "code",
      "metadata": {
        "colab": {
          "base_uri": "https://localhost:8080/"
        },
        "id": "7t47o6Glpd2K",
        "outputId": "c0ee4338-9230-41fd-8079-ee60bbef9779"
      },
      "source": [
        "from pyhanlp import *\r\n",
        "\r\n",
        "ClusterAnalyzer = JClass('com.hankcs.hanlp.mining.cluster.ClusterAnalyzer')\r\n",
        "\r\n",
        "if __name__ == '__main__':\r\n",
        "    analyzer = ClusterAnalyzer()\r\n",
        "    analyzer.addDocument(\"赵一\", \"流行, 流行, 流行, 流行, 流行, 流行, 流行, 流行, 流行, 流行, 蓝调, 蓝调, 蓝调, 蓝调, 蓝调, 蓝调, 摇滚, 摇滚, 摇滚, 摇滚\")\r\n",
        "    analyzer.addDocument(\"钱二\", \"爵士, 爵士, 爵士, 爵士, 爵士, 爵士, 爵士, 爵士, 舞曲, 舞曲, 舞曲, 舞曲, 舞曲, 舞曲, 舞曲, 舞曲, 舞曲\")\r\n",
        "    analyzer.addDocument(\"张三\", \"古典, 古典, 古典, 古典, 民谣, 民谣, 民谣, 民谣\")\r\n",
        "    analyzer.addDocument(\"李四\", \"爵士, 爵士, 爵士, 爵士, 爵士, 爵士, 爵士, 爵士, 爵士, 金属, 金属, 舞曲, 舞曲, 舞曲, 舞曲, 舞曲, 舞曲\")\r\n",
        "    analyzer.addDocument(\"王五\", \"流行, 流行, 流行, 流行, 摇滚, 摇滚, 摇滚, 嘻哈, 嘻哈, 嘻哈\")\r\n",
        "    analyzer.addDocument(\"马六\", \"古典, 古典, 古典, 古典, 古典, 古典, 古典, 古典, 摇滚\")\r\n",
        "    print(analyzer.repeatedBisection(3))    # 重复二分聚类\r\n",
        "    print(analyzer.repeatedBisection(1.0))  # 自动判断聚类数量k"
      ],
      "execution_count": 12,
      "outputs": [
        {
          "output_type": "stream",
          "text": [
            "[[李四, 钱二], [王五, 赵一], [张三, 马六]]\n",
            "[[李四, 钱二], [王五, 赵一], [张三, 马六]]\n"
          ],
          "name": "stdout"
        }
      ]
    },
    {
      "cell_type": "markdown",
      "metadata": {
        "id": "_r2rK2NvzvAn"
      },
      "source": [
        "## python实现Kmeans、Kmeans++\r\n"
      ]
    },
    {
      "cell_type": "code",
      "metadata": {
        "id": "5d35uJ-jzzBp"
      },
      "source": [
        "\r\n",
        "from sklearn.model_selection import train_test_split\r\n",
        "import numpy as np\r\n",
        "import matplotlib.pyplot as plt\r\n",
        "\r\n",
        "data_1 = np.random.randn(200, 2)+[1, 1]\r\n",
        "data_2 = np.random.randn(200, 2)+[4, 4]\r\n",
        "data_3 = np.random.randn(200, 2)+[7, 1]\r\n",
        "\r\n",
        "data = np.concatenate((data_1, data_2, data_3), axis=0)\r\n",
        "\r\n",
        "\r\n",
        "X_train, X_test = train_test_split(data, test_size=0.2)"
      ],
      "execution_count": 5,
      "outputs": []
    },
    {
      "cell_type": "code",
      "metadata": {
        "id": "3UKF8JmH0PM3"
      },
      "source": [
        "def gen_center(X_train, k):\r\n",
        "    n_sample = X_train.shape[0]\r\n",
        "    n_feature = X_train.shape[1]\r\n",
        "\r\n",
        "    # 为了在数据范围内产生随机质心，首先计算各特征的统计量\r\n",
        "    f_mean = np.mean(X_train, axis=0).reshape((1, n_feature))\r\n",
        "    f_std = np.std(X_train, axis=0).reshape((1, n_feature))\r\n",
        "\r\n",
        "    centers = np.random.randn(k, n_feature)*f_std+f_mean    # (k,n_feature)\r\n",
        "    return centers\r\n",
        "\r\n",
        "\r\n",
        "k=3\r\n",
        "centers = gen_center(X_train, k)"
      ],
      "execution_count": 6,
      "outputs": []
    },
    {
      "cell_type": "code",
      "metadata": {
        "id": "cD90WZ-00Ujp"
      },
      "source": [
        "n_sample = X_train.shape[0]\r\n",
        "\r\n",
        "clusters = np.zeros(n_sample)    # 每个样本都对应一个类，相当于Y\r\n",
        "dist = np.zeros((n_sample, k))    # 每个样本对每个质心都有一个距离\r\n",
        "\r\n",
        "for i in range(k):\r\n",
        "    dist[:, i] = np.linalg.norm(X_train-centers[i], axis=1)\r\n",
        "\r\n",
        "# 样本对应的类别为距离最近的质心\r\n",
        "clusters = np.argmin(dist, axis=1)"
      ],
      "execution_count": 7,
      "outputs": []
    },
    {
      "cell_type": "code",
      "metadata": {
        "id": "a9pgcBDc0YE1"
      },
      "source": [
        "# 计算每个类别下的均值坐标，更新质心\r\n",
        "for i in range(k):\r\n",
        "    centers[i] = np.mean(X_train[clusters == i], axis=0)"
      ],
      "execution_count": 8,
      "outputs": []
    },
    {
      "cell_type": "code",
      "metadata": {
        "colab": {
          "base_uri": "https://localhost:8080/",
          "height": 265
        },
        "id": "wyPq2-Wx0b3Z",
        "outputId": "b0526f9f-da35-44e5-c5a6-26e39c6406cc"
      },
      "source": [
        "clusters = np.zeros(n_sample)    # 每个样本都对应一个类，相当于Y\r\n",
        "dist = np.zeros((n_sample, k))    # 每个样本对每个质心都有一个距离\r\n",
        "\r\n",
        "from copy import deepcopy\r\n",
        "cent_pre = np.zeros(centers.shape)\r\n",
        "cent_cur = gen_center(X_train,k)\r\n",
        "cent_move = np.linalg.norm(cent_cur-cent_pre)    # 每轮迭代后质心的移动距离\r\n",
        "\r\n",
        "epsilon = 1e-3    # 质心需要移动的最小距离\r\n",
        "epoch = 0    # 当前迭代次数\r\n",
        "max_iter = 50    # 最大迭代次数\r\n",
        "while epoch < max_iter and cent_move > epsilon:\r\n",
        "    epoch += 1\r\n",
        "\r\n",
        "    # 首先计算每个样本离每个质心的距离\r\n",
        "    for i in range(k):\r\n",
        "        dist[:, i] = np.linalg.norm(X_train-cent_cur[i], axis=1)\r\n",
        "\r\n",
        "    # 样本对应的类别为距离最近的质心\r\n",
        "    clusters = np.argmin(dist, axis=1)\r\n",
        "\r\n",
        "    cent_pre = deepcopy(cent_cur)\r\n",
        "\r\n",
        "    # 计算每个类别下的均值坐标，更新质心\r\n",
        "    for i in range(k):\r\n",
        "        cent_cur[i] = np.mean(X_train[clusters == i], axis=0)\r\n",
        "\r\n",
        "    cent_move = np.linalg.norm(cent_cur-cent_pre)\r\n",
        "    \r\n",
        "plt.clf()\r\n",
        "plt.scatter(X_train[:, 0], X_train[:, 1], alpha=0.5, c=clusters)\r\n",
        "plt.scatter(cent_cur[:, 0], cent_cur[:, 1], marker='*', c='k')\r\n",
        "plt.show()"
      ],
      "execution_count": 9,
      "outputs": [
        {
          "output_type": "display_data",
          "data": {
            "image/png": "[encoded data removed]",
            "text/plain": [
              "<Figure size 432x288 with 1 Axes>"
            ]
          },
          "metadata": {
            "tags": [],
            "needs_background": "light"
          }
        }
      ]
    },
    {
      "cell_type": "code",
      "metadata": {
        "colab": {
          "base_uri": "https://localhost:8080/",
          "height": 265
        },
        "id": "VSihoFRQ0f4L",
        "outputId": "94ed2c35-2d5f-4a7e-bf4d-a11a71d9055d"
      },
      "source": [
        "\r\n",
        "test_sample = X_test.shape[0]\r\n",
        "dist_test = np.zeros((test_sample, k))\r\n",
        "\r\n",
        "# KMeans预测的实质不过是计算各测试样例到各质心的距离，选取最近的质心作为归类\r\n",
        "for i in range(k):\r\n",
        "    dist_test[:, i] = np.linalg.norm(X_test-cent_cur[i], axis=1)\r\n",
        "clus_pred = np.argmin(dist_test, axis=1)\r\n",
        "\r\n",
        "plt.clf()\r\n",
        "plt.scatter(X_test[:, 0], X_test[:, 1], alpha=0.5, c=clus_pred)\r\n",
        "plt.show()"
      ],
      "execution_count": 10,
      "outputs": [
        {
          "output_type": "display_data",
          "data": {
            "image/png": "[encoded data removed]",
            "text/plain": [
              "<Figure size 432x288 with 1 Axes>"
            ]
          },
          "metadata": {
            "tags": [],
            "needs_background": "light"
          }
        }
      ]
    },
    {
      "cell_type": "markdown",
      "metadata": {
        "id": "WC2mePXM0vX-"
      },
      "source": [
        "Kmeans++ "
      ]
    },
    {
      "cell_type": "code",
      "metadata": {
        "id": "16B5lD683Xs7"
      },
      "source": [
        "def gen_center(X_train, k):\r\n",
        "    n_sample, n_feature = X_train.shape\r\n",
        "\r\n",
        "    # 第一个质心随机选\r\n",
        "    idx = np.random.randint(0, n_sample)\r\n",
        "    centers = [X_train[idx, :]]\r\n",
        "\r\n",
        "    # 选出后面k-1个质心\r\n",
        "    for i in range(1, k):\r\n",
        "        dist = np.zeros((n_sample, len(centers)))    # 各样本到质心的距离矩阵\r\n",
        "        for cent_idx in range(len(centers)):\r\n",
        "            dist[:, cent_idx] = np.linalg.norm(X_train-centers[cent_idx],\r\n",
        "                                               axis=1)\r\n",
        "\r\n",
        "        dist = np.min(dist, axis=1)    # 所有样本离各质心距离的最小值\r\n",
        "        p = dist/np.sum(dist)    # 归一化后的最小距离当做概率进行下一个质心的选取，这里没有计算平方\r\n",
        "\r\n",
        "        next_cent_idx = np.random.choice(n_sample, p=p)\r\n",
        "        centers.append(X_train[next_cent_idx])\r\n",
        "\r\n",
        "    return np.array(centers)\r\n",
        "\r\n",
        "\r\n",
        "centers = gen_center(X_train, 3)\r\n",
        "plt.clf()\r\n",
        "plt.scatter(X_train[:, 0], X_train[:, 1], alpha=0.5)\r\n",
        "plt.scatter(centers[:, 0], centers[:, 1], marker='*', c='k')\r\n",
        "plt.show()"
      ],
      "execution_count": null,
      "outputs": []
    },
    {
      "cell_type": "markdown",
      "metadata": {
        "id": "104QnElxpOSH"
      },
      "source": [
        "## 标准化评测\r\n"
      ]
    },
    {
      "cell_type": "markdown",
      "metadata": {
        "id": "1HkrqBx44IZp"
      },
      "source": [
        "本次评测选择搜狗实验室提供的文本分类语料的一个子集，我称它为“搜狗文本分类语料库迷你版”。该迷你版语料库分为5个类目，每个类目下1000 篇文章，共计5000篇文章。运行代码如下"
      ]
    },
    {
      "cell_type": "code",
      "metadata": {
        "colab": {
          "base_uri": "https://localhost:8080/"
        },
        "id": "ZWoo1sucpoG-",
        "outputId": "6bbd8224-4112-447e-83b0-1ae3a869ff22"
      },
      "source": [
        "from pyhanlp import *\r\n",
        "\r\n",
        "import zipfile\r\n",
        "import os\r\n",
        "from pyhanlp.static import download, remove_file, HANLP_DATA_PATH\r\n",
        "\r\n",
        "def test_data_path():\r\n",
        "    \"\"\"\r\n",
        "    获取测试数据路径，位于$root/data/test，根目录由配置文件指定。\r\n",
        "    :return:\r\n",
        "    \"\"\"\r\n",
        "    data_path = os.path.join(HANLP_DATA_PATH, 'test')\r\n",
        "    if not os.path.isdir(data_path):\r\n",
        "        os.mkdir(data_path)\r\n",
        "    return data_path\r\n",
        "\r\n",
        "\r\n",
        "\r\n",
        "## 验证是否存在 MSR语料库，如果没有自动下载\r\n",
        "def ensure_data(data_name, data_url):\r\n",
        "    root_path = test_data_path()\r\n",
        "    dest_path = os.path.join(root_path, data_name)\r\n",
        "    if os.path.exists(dest_path):\r\n",
        "        return dest_path\r\n",
        "    \r\n",
        "    if data_url.endswith('.zip'):\r\n",
        "        dest_path += '.zip'\r\n",
        "    download(data_url, dest_path)\r\n",
        "    if data_url.endswith('.zip'):\r\n",
        "        with zipfile.ZipFile(dest_path, \"r\") as archive:\r\n",
        "            archive.extractall(root_path)\r\n",
        "        remove_file(dest_path)\r\n",
        "        dest_path = dest_path[:-len('.zip')]\r\n",
        "    return dest_path\r\n",
        "\r\n",
        "\r\n",
        "sogou_corpus_path = ensure_data('搜狗文本分类语料库迷你版', 'http://file.hankcs.com/corpus/sogou-text-classification-corpus-mini.zip')\r\n",
        "\r\n",
        "\r\n",
        "## ===============================================\r\n",
        "## 以下开始聚类\r\n",
        "\r\n",
        "ClusterAnalyzer = JClass('com.hankcs.hanlp.mining.cluster.ClusterAnalyzer')\r\n",
        "\r\n",
        "if __name__ == '__main__':\r\n",
        "    for algorithm in \"kmeans\", \"repeated bisection\":\r\n",
        "        print(\"%s F1=%.2f\\n\" % (algorithm, ClusterAnalyzer.evaluate(sogou_corpus_path, algorithm) * 100))"
      ],
      "execution_count": 13,
      "outputs": [
        {
          "output_type": "stream",
          "text": [
            "kmeans F1=74.71\n",
            "\n",
            "repeated bisection F1=83.32\n",
            "\n"
          ],
          "name": "stdout"
        }
      ]
    },
    {
      "cell_type": "markdown",
      "metadata": {
        "id": "1mXKUpAQ5AwF"
      },
      "source": [
        "# 文本分类\r\n"
      ]
    },
    {
      "cell_type": "markdown",
      "metadata": {
        "id": "QtHQUG5P5ESI"
      },
      "source": [
        "## 文本分类语料库"
      ]
    },
    {
      "cell_type": "code",
      "metadata": {
        "id": "xA4R4QJ85H1i"
      },
      "source": [
        ""
      ],
      "execution_count": null,
      "outputs": []
    }
  ]
}